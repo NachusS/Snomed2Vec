{
 "cells": [
  {
   "cell_type": "markdown",
   "metadata": {},
   "source": [
    "# Snomed2Vec-00.\n",
    "\n",
    "## Generator Model - Creacion de los Modelos de Espacio Vectorial-  \n",
    "## A new Approach Snomed-CT with word embedding - Word2Vec\n",
    "### Introducción:\n",
    "**Autor:** Ignacio Martinez Soriano.<br>\n",
    "**Coautor:** Juan Luis Castro Peña.<br>\n",
    "**Fecha:** 24/01/2019.<br>\n",
    "\n",
    "\n",
    "### Introducción:\n",
    "Creación de un nuevo enfoque **Snomed2Vec**:<br>\n",
    "Aplicamos \"Word Embedding\" sobre las descripciones de los términos de la Ontología Clínica **Snomed-CT**. Creamos un espacio vectorial, formado por los vectores de las palabras que forman parte en cada descripción de un Concepto clínico de Snomed-CT.<br>\n",
    "Generamos varios modelos vectoriales, basados en grandes conjuntos de datos:<br>\n",
    "* sobre un dominio de lenguaje local: (Informes de Alta de Urgencias, Hospital \"Rafael Méndez\", Años 2009-2016 + las descripciones de los términos de los conceptos de Snomed-CT.\n",
    "* Otro sobre un dominio general: ((Artículos de wikipedia en español descarga enero 2019 + Las descripciones de los términos de los conceptos de Snomed-CT.\n",
    "\n",
    "Además implementamos una version de **Most_Similar()** para obtener los Conceptos similares de  **Snomed-CT** y que nos indique el tipo de concepto clínico que ha encontrado, y la asociacion con otros conceptos.<br>\n",
    "\n",
    "* Por ejemplo, para un hallazgo clinico = diagnóstico, podemos pedirle, los procedimientos mas similares, encontrados en el espacio vectorial.\n",
    "\n",
    "### Datos de Entrada:\n",
    "\n",
    "1. Los Informes de Alta de Urgencias, /DataWork/**Corpus-03-tokens.txt**.(Datos con un concepto por linea, todos sus sinónimos y su jerarquia).\n",
    "1. Los articulos de la  wikipedia en Español, descargada en Enero de 2019. y Extraidos los artículos con WikiExtractor. https://github.com/attardi/wikiextractor\n",
    "1. Los conceptos de Snomed-CT, /DataWork/**Snomed-CorpusTerm-Jer.txt**. (Id-Concepto, jerarquia y descripcion) por linea.\n",
    "\n",
    "Todos los textos, están normalizados, se han cambiado a minúsculas y se han eliminado los acentos.\n",
    "\n",
    "## Productos generados:\n",
    "\n",
    "\n",
    "## 1. Generación de los Modelos de Espacio Vectorial:\n",
    "\n",
    "Para la generación de los modelos utilizamos **Word2Vec**.<br>\n",
    "\n",
    "1. Modelo Dominio local, Word2Vec:<br>\n",
    "Se genera un modelo de espacio vectorial, con **Word2Vec**, basado en los Informes de Alta de urgencias + Descripción términos de Snomed-CT:<br>\n",
    "***(SkipGram, vector size 300, windows= 10, Negative=0, min=1)***\n",
    "\n",
    "1. Modelo con un dominio General de Wikipedia en Español + las desripciones de los términos de Snomed-CT:<br>\n",
    "***(SkipGram, vector size 300, windows= 10, Negative=0, min=1)***\n",
    "\n",
    "Se puede intentar generar con otros modelos:\n",
    "1. Modelo Dominio local, Doc2Vec:<br>\n",
    "Se genera un modelo de espacio vectorial, con **Doc2Vec**, basado en los Informes de Alta de urgencias. Con los siguientes parámetros:\n",
    "\n",
    "1. Modelo Dominio local, Doc2Vec:<br>\n",
    "Se genera un modelo de espacio vectorial, con **Glove**, basado en los Informes de Alta de urgencias. Con los siguientes parámetros:\n",
    "\n",
    "\n",
    "\n"
   ]
  },
  {
   "cell_type": "markdown",
   "metadata": {},
   "source": [
    "## 2. Estructura inicial, Espacio Vectorial final Snomed2Vec-Model:\n",
    "Se propone la siguiente esctructura de la Matriz, Snomed2Vec.\n",
    "\n",
    "Propuesta:\n",
    "\n",
    "* Un registro para cada concepto con la siguiente estructura:<br>\n",
    "    **|Id-Concept | TokensDescripcion | Jerarquia | [Vector de la Descripción]|**\n",
    "    "
   ]
  },
  {
   "cell_type": "markdown",
   "metadata": {},
   "source": [
    "### 2.1 Carga de librerias necesarias:"
   ]
  },
  {
   "cell_type": "code",
   "execution_count": 1,
   "metadata": {},
   "outputs": [
    {
     "name": "stderr",
     "output_type": "stream",
     "text": [
      "Using TensorFlow backend.\n"
     ]
    }
   ],
   "source": [
    "# Carga de librerias. Versiones en Portatil\n",
    "# numpy 1.13.3\n",
    "# pandas 0.20.3\n",
    "# gensim 2.30\n",
    "import sys\n",
    "#p= r'D:\\Doctorado\\codigo'\n",
    "p='/media/nacho/DatosHD/Doctorado/codigo'\n",
    "sys.path.append(p)\n",
    "\n",
    "#import unicodedata\n",
    "import pandas as pd\n",
    "import numpy as np\n",
    "\n",
    "from gensim.models import Word2Vec\n",
    "\n",
    "from six import iteritems, itervalues, string_types\n",
    "from six.moves import xrange\n",
    "from numpy import exp, log, dot, zeros, outer, random, dtype, float32 as REAL,\\\n",
    "    double, uint32, seterr, array, uint8, vstack, fromstring, sqrt, newaxis,\\\n",
    "    ndarray, empty, sum as np_sum, prod, ones, ascontiguousarray\n",
    "\n",
    "import logging\n",
    "import IPython.display as disp\n",
    "\n",
    "logging.basicConfig(format='%(asctime)s : %(levelname)s : %(message)s', level=logging.INFO)\n",
    "pd.set_option('max_colwidth', 100) #para que se impriman las columnas con mayor anchura en el notebook"
   ]
  },
  {
   "cell_type": "markdown",
   "metadata": {},
   "source": [
    "## Nota ---------:\n",
    "**Advertencia:** Si solo se quiere generar nuevos modelos, haciendo combinaciones con los datos, salta diectamente al punto **4.1** o al **4.2** y carga el modelo inicial del los datos del Snomed-CT. **Snomed2vec-Jer-Corpus.txt**\n",
    "\n",
    "Saltar el punto **5.3.2.** Para cargar el Dataframe final, con los vectores generados.\n"
   ]
  },
  {
   "cell_type": "markdown",
   "metadata": {},
   "source": [
    "## 3. Creación Datos DataFrame de Snomed-CT. Estructura final\n",
    "\n",
    "Partimos de esta estructura incial, generada en el Notebook 05-Snomed-CT-Term-Sinonimos.ipynb\n",
    "\n",
    "### Descarga Sinónimos de  bbdd Mysql, Snomed-CT SnapShot\n",
    "\n",
    "Una vez importados los datos  de Snomed-CT, a una bbdd MySql. Utilizando el script RF2 MySQL Import and Optimize  http://snomed.org/sctfull2mysql de la página: https://confluence.ihtsdotools.org/display/DOC/Technical+Resources En este fichero podemos encontrar todas las herramientas necesarias, para cargar y transformar los datos de las descargas oficiales de Snomed-CT.\n",
    "\n",
    "Genero una descarga identificando el concept_Id, termino y Id_descripción utilizo las tablas de:\n",
    "* snomedct.sct2_concept_snapshot_global\n",
    "* snomedct.sct2_description_snapshot_global\n",
    "\n",
    "### Conceptos general y sinónimos.\n",
    "Los conceptos existentes en Snomed-CT, version española, con sus sinónimos son **(516211)**. <br>\n",
    "Para obtener estos datos se filtra la tabla sct2_descrition, utilizando el typeId = '90000000000013009', este código identifica a los ***sinónimos***<br>\n",
    "\n",
    "Se descarga utilizando la versión SnapShot con la siguiente SQL:\n",
    "\n",
    "> **SELECT** c.id as idConcept, d.Term, d.id as id_descripcion<br>\n",
    "**FROM** snomedct.sct2_concept_snapshot_global c, snomedct.sct2_description_snapshot_global d <br>\n",
    "**where** (c.id = d.conceptId)<br>\n",
    "\t**and** c.active=1<br>\n",
    "    **and** d.typeId='900000000000013009'<br>\n",
    "\t**and** (d.languageCode='es' **or** d.languageCode='es-ES');<br>\n",
    "<br>\n",
    "Esta descaga proporciona **(516211)** conceptos con sus sinónimos.<br>\n",
    "\n",
    "**Ultima descarga Select utilizada:**\n",
    "\n",
    "BBDD utilizada Snomed-CT_Snapshot.\n",
    "Una vez descargados los datos se genera los tokens de cada descripción normalizados. y obtenemos la siguiente estructura inicial:"
   ]
  },
  {
   "cell_type": "markdown",
   "metadata": {},
   "source": [
    "### 3.1. Partimos del DataSet con la descripción sin modificar de Snomed-CT:\n"
   ]
  },
  {
   "cell_type": "code",
   "execution_count": 2,
   "metadata": {
    "collapsed": true
   },
   "outputs": [],
   "source": [
    "# Partimos de esta estructura inicial generada seǵun el Notebook 5. Proyecto Tesis - Opcion 2\n",
    "fich = '/Snomed-CT/Diccionario/Snomed-CorpusTerm-Original.txt'\n",
    "\n",
    "f = p+fich\n",
    "dfSnomedWork = pd.read_csv(f, sep='|', encoding='utf_8', header=0, dtype='object').fillna('')\n"
   ]
  },
  {
   "cell_type": "code",
   "execution_count": 3,
   "metadata": {},
   "outputs": [
    {
     "data": {
      "text/html": [
       "<div>\n",
       "<style>\n",
       "    .dataframe thead tr:only-child th {\n",
       "        text-align: right;\n",
       "    }\n",
       "\n",
       "    .dataframe thead th {\n",
       "        text-align: left;\n",
       "    }\n",
       "\n",
       "    .dataframe tbody tr th {\n",
       "        vertical-align: top;\n",
       "    }\n",
       "</style>\n",
       "<table border=\"1\" class=\"dataframe\">\n",
       "  <thead>\n",
       "    <tr style=\"text-align: right;\">\n",
       "      <th></th>\n",
       "      <th>idConcept</th>\n",
       "      <th>Term</th>\n",
       "      <th>corpus</th>\n",
       "    </tr>\n",
       "  </thead>\n",
       "  <tbody>\n",
       "    <tr>\n",
       "      <th>0</th>\n",
       "      <td>102002</td>\n",
       "      <td>hemoglobina Okaloosa</td>\n",
       "      <td>['hemoglobina', 'Okaloosa']</td>\n",
       "    </tr>\n",
       "    <tr>\n",
       "      <th>1</th>\n",
       "      <td>102002</td>\n",
       "      <td>Hb 48 (CD7), Leu - arg</td>\n",
       "      <td>['Hb', '48', 'CD7', 'Leu', 'arg']</td>\n",
       "    </tr>\n",
       "    <tr>\n",
       "      <th>2</th>\n",
       "      <td>103007</td>\n",
       "      <td>virus del fibroma de las ardillas</td>\n",
       "      <td>['virus', 'del', 'fibroma', 'de', 'las', 'ardillas']</td>\n",
       "    </tr>\n",
       "    <tr>\n",
       "      <th>3</th>\n",
       "      <td>104001</td>\n",
       "      <td>escisión de una lesión en la rótula</td>\n",
       "      <td>['escisión', 'de', 'una', 'lesión', 'en', 'la', 'rótula']</td>\n",
       "    </tr>\n",
       "    <tr>\n",
       "      <th>4</th>\n",
       "      <td>104001</td>\n",
       "      <td>escisión local de una lesión o de tejido de la rótula</td>\n",
       "      <td>['escisión', 'local', 'de', 'una', 'lesión', 'o', 'de', 'tejido', 'de', 'la', 'rótula']</td>\n",
       "    </tr>\n",
       "  </tbody>\n",
       "</table>\n",
       "</div>"
      ],
      "text/plain": [
       "  idConcept                                                   Term  \\\n",
       "0    102002                                   hemoglobina Okaloosa   \n",
       "1    102002                                 Hb 48 (CD7), Leu - arg   \n",
       "2    103007                      virus del fibroma de las ardillas   \n",
       "3    104001                    escisión de una lesión en la rótula   \n",
       "4    104001  escisión local de una lesión o de tejido de la rótula   \n",
       "\n",
       "                                                                                    corpus  \n",
       "0                                                              ['hemoglobina', 'Okaloosa']  \n",
       "1                                                        ['Hb', '48', 'CD7', 'Leu', 'arg']  \n",
       "2                                     ['virus', 'del', 'fibroma', 'de', 'las', 'ardillas']  \n",
       "3                                ['escisión', 'de', 'una', 'lesión', 'en', 'la', 'rótula']  \n",
       "4  ['escisión', 'local', 'de', 'una', 'lesión', 'o', 'de', 'tejido', 'de', 'la', 'rótula']  "
      ]
     },
     "execution_count": 3,
     "metadata": {},
     "output_type": "execute_result"
    }
   ],
   "source": [
    "dfSnomedWork.head()"
   ]
  },
  {
   "cell_type": "code",
   "execution_count": 4,
   "metadata": {},
   "outputs": [
    {
     "name": "stdout",
     "output_type": "stream",
     "text": [
      "Comprobacion de tamaño - 516211 - 516211\n"
     ]
    }
   ],
   "source": [
    "print('Comprobacion de tamaño - 516211 - %d' % len(dfSnomedWork))"
   ]
  },
  {
   "cell_type": "markdown",
   "metadata": {},
   "source": [
    "### 3.2. Cargamos DataSet con la descripción Normalizada de Snomed-CT:\n",
    "**Versión para generar los modelos vectoriales, con los  Informes de ALta de Urgencias y Wikipedia.**"
   ]
  },
  {
   "cell_type": "code",
   "execution_count": 44,
   "metadata": {
    "collapsed": true
   },
   "outputs": [],
   "source": [
    "# Partimos de esta estructura inicial generada seǵun el Notebook 5. Proyecto Tesis\n",
    "fich = '/Snomed-CT/Diccionario/Snomed-TokenSynFinal-ok.txt'\n",
    "\n",
    "f = p+fich\n",
    "dfSnomedSyn = pd.read_csv(f, sep='|', encoding='utf_8', header=0, dtype='object').fillna('')"
   ]
  },
  {
   "cell_type": "code",
   "execution_count": 45,
   "metadata": {
    "collapsed": true
   },
   "outputs": [],
   "source": [
    "# Convertir los datos cargados en listas de texto, despues de cargar los datos.\n",
    "# Cuando se guarda en csv el pandas dataframe, guarda los valores como strings y hay que convertirlos a listas\n",
    "from ast import literal_eval\n",
    "dfSnomedSyn['corpus_token'] = dfSnomedSyn['corpus_token'].apply(literal_eval)\n",
    "dfSnomedSyn['corpus_Syn'] = dfSnomedSyn['corpus_Syn'].apply(literal_eval)"
   ]
  },
  {
   "cell_type": "code",
   "execution_count": 46,
   "metadata": {},
   "outputs": [
    {
     "data": {
      "text/html": [
       "<div>\n",
       "<style>\n",
       "    .dataframe thead tr:only-child th {\n",
       "        text-align: right;\n",
       "    }\n",
       "\n",
       "    .dataframe thead th {\n",
       "        text-align: left;\n",
       "    }\n",
       "\n",
       "    .dataframe tbody tr th {\n",
       "        vertical-align: top;\n",
       "    }\n",
       "</style>\n",
       "<table border=\"1\" class=\"dataframe\">\n",
       "  <thead>\n",
       "    <tr style=\"text-align: right;\">\n",
       "      <th></th>\n",
       "      <th>idConcept</th>\n",
       "      <th>corpus</th>\n",
       "      <th>corpus_token</th>\n",
       "      <th>corpus_Syn</th>\n",
       "    </tr>\n",
       "  </thead>\n",
       "  <tbody>\n",
       "    <tr>\n",
       "      <th>0</th>\n",
       "      <td>10000006</td>\n",
       "      <td>dolor de pecho irradiado hacia otras zonas</td>\n",
       "      <td>[pecho, irradiado, hacia, dolor, zonas]</td>\n",
       "      <td>[[dolor, pecho, irradiado, hacia, zonas]]</td>\n",
       "    </tr>\n",
       "    <tr>\n",
       "      <th>1</th>\n",
       "      <td>10001000122108</td>\n",
       "      <td>observaciones de la historia social relacionadas con el habito de fumar  alcohol y dieta</td>\n",
       "      <td>[relacionadas, observaciones, dieta, habito, fumar, y, social, alcohol, historia]</td>\n",
       "      <td>[[observaciones, historia, social, relacionadas, habito, fumar, alcohol, y, dieta]]</td>\n",
       "    </tr>\n",
       "    <tr>\n",
       "      <th>2</th>\n",
       "      <td>10001005</td>\n",
       "      <td>septicemia bacteriana | sepsis bacteriana</td>\n",
       "      <td>[bacteriana, sepsis, septicemia]</td>\n",
       "      <td>[[septicemia, bacteriana], [sepsis, bacteriana]]</td>\n",
       "    </tr>\n",
       "    <tr>\n",
       "      <th>3</th>\n",
       "      <td>10001941000122105</td>\n",
       "      <td>modulo para componentes del nomenclator de formulas magistrales</td>\n",
       "      <td>[magistrales, formulas, componentes, nomenclator, modulo]</td>\n",
       "      <td>[[modulo, componentes, nomenclator, formulas, magistrales]]</td>\n",
       "    </tr>\n",
       "    <tr>\n",
       "      <th>4</th>\n",
       "      <td>10002003</td>\n",
       "      <td>reseccion del fondo gastrico | fundectomia gastrica | reseccion de la cupula del estomago</td>\n",
       "      <td>[fondo, gastrica, fundectomia, estomago, reseccion, cupula, gastrico]</td>\n",
       "      <td>[[reseccion, fondo, gastrico], [fundectomia, gastrica], [reseccion, cupula, estomago]]</td>\n",
       "    </tr>\n",
       "  </tbody>\n",
       "</table>\n",
       "</div>"
      ],
      "text/plain": [
       "           idConcept  \\\n",
       "0           10000006   \n",
       "1     10001000122108   \n",
       "2           10001005   \n",
       "3  10001941000122105   \n",
       "4           10002003   \n",
       "\n",
       "                                                                                      corpus  \\\n",
       "0                                                 dolor de pecho irradiado hacia otras zonas   \n",
       "1   observaciones de la historia social relacionadas con el habito de fumar  alcohol y dieta   \n",
       "2                                                  septicemia bacteriana | sepsis bacteriana   \n",
       "3                            modulo para componentes del nomenclator de formulas magistrales   \n",
       "4  reseccion del fondo gastrico | fundectomia gastrica | reseccion de la cupula del estomago   \n",
       "\n",
       "                                                                        corpus_token  \\\n",
       "0                                            [pecho, irradiado, hacia, dolor, zonas]   \n",
       "1  [relacionadas, observaciones, dieta, habito, fumar, y, social, alcohol, historia]   \n",
       "2                                                   [bacteriana, sepsis, septicemia]   \n",
       "3                          [magistrales, formulas, componentes, nomenclator, modulo]   \n",
       "4              [fondo, gastrica, fundectomia, estomago, reseccion, cupula, gastrico]   \n",
       "\n",
       "                                                                               corpus_Syn  \n",
       "0                                               [[dolor, pecho, irradiado, hacia, zonas]]  \n",
       "1     [[observaciones, historia, social, relacionadas, habito, fumar, alcohol, y, dieta]]  \n",
       "2                                        [[septicemia, bacteriana], [sepsis, bacteriana]]  \n",
       "3                             [[modulo, componentes, nomenclator, formulas, magistrales]]  \n",
       "4  [[reseccion, fondo, gastrico], [fundectomia, gastrica], [reseccion, cupula, estomago]]  "
      ]
     },
     "execution_count": 46,
     "metadata": {},
     "output_type": "execute_result"
    }
   ],
   "source": [
    "dfSnomedSyn.head()"
   ]
  },
  {
   "cell_type": "markdown",
   "metadata": {},
   "source": [
    "### 3.3. Creación Corpus de Trabajo Final:\n",
    "Aqui tenemos un concepto con todos sus sinónimos por linea."
   ]
  },
  {
   "cell_type": "code",
   "execution_count": 47,
   "metadata": {
    "collapsed": true
   },
   "outputs": [],
   "source": [
    "# Selecciono\n",
    "cols=['idConcept','corpus']\n",
    "dfSno=dfSnomedSyn[cols].copy()"
   ]
  },
  {
   "cell_type": "code",
   "execution_count": 48,
   "metadata": {},
   "outputs": [
    {
     "data": {
      "text/html": [
       "<div>\n",
       "<style>\n",
       "    .dataframe thead tr:only-child th {\n",
       "        text-align: right;\n",
       "    }\n",
       "\n",
       "    .dataframe thead th {\n",
       "        text-align: left;\n",
       "    }\n",
       "\n",
       "    .dataframe tbody tr th {\n",
       "        vertical-align: top;\n",
       "    }\n",
       "</style>\n",
       "<table border=\"1\" class=\"dataframe\">\n",
       "  <thead>\n",
       "    <tr style=\"text-align: right;\">\n",
       "      <th></th>\n",
       "      <th>idConcept</th>\n",
       "      <th>corpus</th>\n",
       "    </tr>\n",
       "  </thead>\n",
       "  <tbody>\n",
       "    <tr>\n",
       "      <th>0</th>\n",
       "      <td>10000006</td>\n",
       "      <td>dolor de pecho irradiado hacia otras zonas</td>\n",
       "    </tr>\n",
       "    <tr>\n",
       "      <th>1</th>\n",
       "      <td>10001000122108</td>\n",
       "      <td>observaciones de la historia social relacionadas con el habito de fumar  alcohol y dieta</td>\n",
       "    </tr>\n",
       "    <tr>\n",
       "      <th>2</th>\n",
       "      <td>10001005</td>\n",
       "      <td>septicemia bacteriana | sepsis bacteriana</td>\n",
       "    </tr>\n",
       "    <tr>\n",
       "      <th>3</th>\n",
       "      <td>10001941000122105</td>\n",
       "      <td>modulo para componentes del nomenclator de formulas magistrales</td>\n",
       "    </tr>\n",
       "    <tr>\n",
       "      <th>4</th>\n",
       "      <td>10002003</td>\n",
       "      <td>reseccion del fondo gastrico | fundectomia gastrica | reseccion de la cupula del estomago</td>\n",
       "    </tr>\n",
       "  </tbody>\n",
       "</table>\n",
       "</div>"
      ],
      "text/plain": [
       "           idConcept  \\\n",
       "0           10000006   \n",
       "1     10001000122108   \n",
       "2           10001005   \n",
       "3  10001941000122105   \n",
       "4           10002003   \n",
       "\n",
       "                                                                                      corpus  \n",
       "0                                                 dolor de pecho irradiado hacia otras zonas  \n",
       "1   observaciones de la historia social relacionadas con el habito de fumar  alcohol y dieta  \n",
       "2                                                  septicemia bacteriana | sepsis bacteriana  \n",
       "3                            modulo para componentes del nomenclator de formulas magistrales  \n",
       "4  reseccion del fondo gastrico | fundectomia gastrica | reseccion de la cupula del estomago  "
      ]
     },
     "execution_count": 48,
     "metadata": {},
     "output_type": "execute_result"
    }
   ],
   "source": [
    "dfSno.head()"
   ]
  },
  {
   "cell_type": "code",
   "execution_count": 49,
   "metadata": {
    "collapsed": true
   },
   "outputs": [],
   "source": [
    "# Generacion del Corpus de Trabajo final: Solo el id concept con sus descripciones\n",
    "fich = '/Snomed-CT/Diccionario/Snomed2vec-Corpus.txt'\n",
    "f = p+fich\n",
    "\n",
    "dfSno.to_csv(f, sep='|', encoding='utf_8', header=1, index=False)"
   ]
  },
  {
   "cell_type": "markdown",
   "metadata": {},
   "source": [
    "### 3.4. Carga Datos DataFrame de Snomed-CT. Snomed2Vec-Corpus.txt"
   ]
  },
  {
   "cell_type": "code",
   "execution_count": 2,
   "metadata": {
    "collapsed": true
   },
   "outputs": [],
   "source": [
    "# Carga del Snomed-CT Corpus Snomed2Vec:\n",
    "fich = '/Snomed-CT/Diccionario/Snomed2vec-Corpus.txt'\n",
    "\n",
    "f = p+fich\n",
    "dfSno = pd.read_csv(f, sep='|', encoding='utf_8', header=0, dtype='object').fillna('')"
   ]
  },
  {
   "cell_type": "code",
   "execution_count": 3,
   "metadata": {},
   "outputs": [
    {
     "data": {
      "text/html": [
       "<div>\n",
       "<style>\n",
       "    .dataframe thead tr:only-child th {\n",
       "        text-align: right;\n",
       "    }\n",
       "\n",
       "    .dataframe thead th {\n",
       "        text-align: left;\n",
       "    }\n",
       "\n",
       "    .dataframe tbody tr th {\n",
       "        vertical-align: top;\n",
       "    }\n",
       "</style>\n",
       "<table border=\"1\" class=\"dataframe\">\n",
       "  <thead>\n",
       "    <tr style=\"text-align: right;\">\n",
       "      <th></th>\n",
       "      <th>idConcept</th>\n",
       "      <th>corpus</th>\n",
       "    </tr>\n",
       "  </thead>\n",
       "  <tbody>\n",
       "    <tr>\n",
       "      <th>0</th>\n",
       "      <td>10000006</td>\n",
       "      <td>dolor de pecho irradiado hacia otras zonas</td>\n",
       "    </tr>\n",
       "    <tr>\n",
       "      <th>1</th>\n",
       "      <td>10001000122108</td>\n",
       "      <td>observaciones de la historia social relacionadas con el habito de fumar  alcohol y dieta</td>\n",
       "    </tr>\n",
       "    <tr>\n",
       "      <th>2</th>\n",
       "      <td>10001005</td>\n",
       "      <td>septicemia bacteriana | sepsis bacteriana</td>\n",
       "    </tr>\n",
       "    <tr>\n",
       "      <th>3</th>\n",
       "      <td>10001941000122105</td>\n",
       "      <td>modulo para componentes del nomenclator de formulas magistrales</td>\n",
       "    </tr>\n",
       "    <tr>\n",
       "      <th>4</th>\n",
       "      <td>10002003</td>\n",
       "      <td>reseccion del fondo gastrico | fundectomia gastrica | reseccion de la cupula del estomago</td>\n",
       "    </tr>\n",
       "  </tbody>\n",
       "</table>\n",
       "</div>"
      ],
      "text/plain": [
       "           idConcept  \\\n",
       "0           10000006   \n",
       "1     10001000122108   \n",
       "2           10001005   \n",
       "3  10001941000122105   \n",
       "4           10002003   \n",
       "\n",
       "                                                                                      corpus  \n",
       "0                                                 dolor de pecho irradiado hacia otras zonas  \n",
       "1   observaciones de la historia social relacionadas con el habito de fumar  alcohol y dieta  \n",
       "2                                                  septicemia bacteriana | sepsis bacteriana  \n",
       "3                            modulo para componentes del nomenclator de formulas magistrales  \n",
       "4  reseccion del fondo gastrico | fundectomia gastrica | reseccion de la cupula del estomago  "
      ]
     },
     "execution_count": 3,
     "metadata": {},
     "output_type": "execute_result"
    }
   ],
   "source": [
    "dfSno.head()"
   ]
  },
  {
   "cell_type": "code",
   "execution_count": 6,
   "metadata": {},
   "outputs": [
    {
     "name": "stdout",
     "output_type": "stream",
     "text": [
      "Comprobacion de tamaño - 328384 - 328384\n"
     ]
    }
   ],
   "source": [
    "print('Comprobacion de tamaño - 328384 - %d' % len(dfSno))"
   ]
  },
  {
   "cell_type": "markdown",
   "metadata": {},
   "source": [
    "## 3.5. Funciones Auxiliares:"
   ]
  },
  {
   "cell_type": "markdown",
   "metadata": {},
   "source": [
    "### 3.5.1. Creacion de las jerarquias Snomed-Concept:"
   ]
  },
  {
   "cell_type": "code",
   "execution_count": 7,
   "metadata": {
    "collapsed": true
   },
   "outputs": [],
   "source": [
    "DicJerarquias = {'404684003':'Hallazgo clínico','71388002':'Procedimiento','363787002':'Entidad observable','123037004':'Estructura corporal',\n",
    "            '410607006':'Organismo','105590001':'Sustancia','373873005':'Producto farmacéutico / biológico','123038009':'Espécimen','370115009':'Concepto especial',\n",
    "            '900000000000441000':'Componente del modelo de SNOMED CT','78621006':'Fuerza física','272379006':'Evento','308916002':'Ambiente o localización geográfica',\n",
    "            '48176007':'Contexto social','243796009':'Situación con contexto explícito','254291000':'Estadificaciones y escalas',\n",
    "            '260787004':'Elemento de registro','362981000':'Calificador','419891008':'Objeto físico'}"
   ]
  },
  {
   "cell_type": "code",
   "execution_count": 8,
   "metadata": {},
   "outputs": [
    {
     "data": {
      "text/plain": [
       "'Objeto físico'"
      ]
     },
     "execution_count": 8,
     "metadata": {},
     "output_type": "execute_result"
    }
   ],
   "source": [
    "# Ejemplo de un elemento del diccionario: comprobaacion)\n",
    "DicJerarquias.get('419891008')"
   ]
  },
  {
   "cell_type": "code",
   "execution_count": 9,
   "metadata": {
    "collapsed": true
   },
   "outputs": [],
   "source": [
    "# Items delDiccionario de Jerarquias de primer Nivel de Snomed-CT\n",
    "# Se crea una lista solo con los items del diccionario.\n",
    "idLevel = ['404684003',\n",
    " '71388002',\n",
    " '363787002',\n",
    " '123037004',\n",
    " '410607006',\n",
    " '105590001',\n",
    " '373873005',\n",
    " '123038009',\n",
    " '370115009',\n",
    " '900000000000441000',\n",
    " '78621006',\n",
    " '272379006',\n",
    " '308916002',\n",
    " '48176007',\n",
    " '243796009',\n",
    " '254291000',\n",
    " '260787004',\n",
    " '362981000',\n",
    " '419891008']"
   ]
  },
  {
   "cell_type": "markdown",
   "metadata": {},
   "source": [
    "### 3.5.2. Transitive Closure:\n",
    "Para poder obtener la jerarquía superior de un concepto, es necesario, utilizar \"Transitive Closure\", una manera de recorrer todos los ancestros de un objeto, hasta llegar al nivel superior.\n",
    "\n",
    "En un grafo dirijido es un sistema para identificar los ancestros de cualquier nodo.\n",
    "\n",
    "Se puede utilizar alguna de las siguientes  implementaciones:\n",
    "1. https://github.com/WestCoastInformatics/SNOMED-CT-Transitive-Closure\n",
    "1. https://confluence.ihtsdotools.org/display/DOCTSG/7.5.2+Transitive+closure+implementation (Doc. oficial)\n",
    "1. https://doc.ihtsdo.org/en_us/tig.html?t=tsg2_test_optimizeConcept_transitiveClosure_impl\n",
    "1. https://github.com/IHTSDO/snomed-publish/blob/master/doc/transitiveClosure2.pl (perl)"
   ]
  },
  {
   "cell_type": "code",
   "execution_count": 10,
   "metadata": {
    "collapsed": true
   },
   "outputs": [],
   "source": [
    "# Utilizar Tabla de relaciones Transitive Closuore\n",
    "#fich = '/Snomed-CT/Snomed-Data/Diccionario/transitiveClosure.csv'\n",
    "fich = '/Snomed-CT/Snomed-Data/Diccionario/Snomed-TransitiveClosure.csv'\n",
    "\n",
    "f = p+fich\n",
    "dfTrans = pd.read_csv(f, sep=',', encoding='utf_8', header=0, dtype='object').fillna('')"
   ]
  },
  {
   "cell_type": "code",
   "execution_count": 11,
   "metadata": {},
   "outputs": [
    {
     "data": {
      "text/plain": [
       "6115546"
      ]
     },
     "execution_count": 11,
     "metadata": {},
     "output_type": "execute_result"
    }
   ],
   "source": [
    "print('Tamaño de la tabla generada Transitive Closure: %d' % len(dfTrans))"
   ]
  },
  {
   "cell_type": "markdown",
   "metadata": {},
   "source": [
    "### 3.6 Funcion para detectar la Jerarquia de un ConceptoID:\n",
    "Comprobació del funciomnamiento correcto de la descarga generada."
   ]
  },
  {
   "cell_type": "code",
   "execution_count": 12,
   "metadata": {
    "collapsed": true
   },
   "outputs": [],
   "source": [
    "def buscaJerarquia(conceptId):\n",
    "    selJerarquia=[]\n",
    "    buffList=[]\n",
    "    buff0=''\n",
    "    \n",
    "    buffer = dfTrans.loc[dfTrans['subtype']==conceptId, ['supertype']]\n",
    "    buffList = buffer['supertype'].tolist()\n",
    "    print(buffList)\n",
    "    print('----------')\n",
    "    selJerarquia = [x for x in buffList if x in idLevel]\n",
    "    print(selJerarquia)\n",
    "    if selJerarquia:\n",
    "        buff0=DicJerarquias.get(selJerarquia[0])\n",
    "    return buff0"
   ]
  },
  {
   "cell_type": "code",
   "execution_count": 13,
   "metadata": {},
   "outputs": [
    {
     "name": "stdout",
     "output_type": "stream",
     "text": [
      "['118956008', '37782003', '399917004', '49755003', '138875005', '123037004', '19130008', '52988006']\n",
      "----------\n",
      "['123037004']\n"
     ]
    },
    {
     "data": {
      "text/plain": [
       "'Estructura corporal'"
      ]
     },
     "execution_count": 13,
     "metadata": {},
     "output_type": "execute_result"
    }
   ],
   "source": [
    "# Ejemplo de obtener l aJerarquia según el concepto que se le pase de parámetro:\n",
    "# esguince 384709000\n",
    "buscaJerarquia('384709000')"
   ]
  },
  {
   "cell_type": "code",
   "execution_count": 14,
   "metadata": {},
   "outputs": [
    {
     "name": "stdout",
     "output_type": "stream",
     "text": [
      "['138875005', '238149007', '128139000', '404684003', '91302008', '87628006', '64572001', '40733004']\n",
      "----------\n",
      "['404684003']\n"
     ]
    },
    {
     "data": {
      "text/plain": [
       "'Hallazgo clínico'"
      ]
     },
     "execution_count": 14,
     "metadata": {},
     "output_type": "execute_result"
    }
   ],
   "source": [
    "# Ejemplo de obtener la Jerarquia según el concepto que se le pase de parámetro:\n",
    "# septicemia bacteriana\n",
    "buscaJerarquia('10001005')"
   ]
  },
  {
   "cell_type": "code",
   "execution_count": null,
   "metadata": {
    "collapsed": true
   },
   "outputs": [],
   "source": [
    "# Tamaño del corpus de Snomed Conceptos válidos.\n",
    "print(dfSno.index)"
   ]
  },
  {
   "cell_type": "code",
   "execution_count": 29,
   "metadata": {
    "collapsed": true
   },
   "outputs": [],
   "source": [
    "dfTrans.index.rename('idx', inplace=True)\n",
    "#data.set_index(\"idx\", inplace=True)"
   ]
  },
  {
   "cell_type": "code",
   "execution_count": 32,
   "metadata": {},
   "outputs": [
    {
     "data": {
      "text/plain": [
       "RangeIndex(start=0, stop=6115546, step=1, name='idx')"
      ]
     },
     "execution_count": 32,
     "metadata": {},
     "output_type": "execute_result"
    }
   ],
   "source": [
    "dfTrans.index"
   ]
  },
  {
   "cell_type": "markdown",
   "metadata": {},
   "source": [
    "### 3.6.1. Funcion para detectar la Jerarquia de un códigoID Snomed en un DataFrame:\n",
    "Funcion utilizadavpara generar el corpus final con las Jerarquias."
   ]
  },
  {
   "cell_type": "code",
   "execution_count": 18,
   "metadata": {
    "collapsed": true
   },
   "outputs": [],
   "source": [
    "def buscaJerDF(row):\n",
    "    \n",
    "    selJerarquia=[]\n",
    "    buffList=[]\n",
    "    buff0=''\n",
    "    concept = row.idConcept\n",
    "    \n",
    "    buffer = dfTrans.loc[dfTrans['subtype']==concept, ['supertype']]\n",
    "    buffList = buffer['supertype'].tolist()\n",
    "    \n",
    "    selJerarquia = [x for x in buffList if x in idLevel]\n",
    "    if selJerarquia:\n",
    "        buff0=DicJerarquias.get(selJerarquia[0])\n",
    "    print('%s - %s' % (concept, buff0))\n",
    "    return buff0"
   ]
  },
  {
   "cell_type": "code",
   "execution_count": 38,
   "metadata": {},
   "outputs": [
    {
     "name": "stdout",
     "output_type": "stream",
     "text": [
      "100000000 - \n",
      "10000006 - Hallazgo clínico\n",
      "1000004 - \n",
      "100009004 - \n"
     ]
    }
   ],
   "source": [
    "dfSno['jerarquia'] = dfSno.loc[0:3].apply(buscaJerDF, axis=1)"
   ]
  },
  {
   "cell_type": "markdown",
   "metadata": {},
   "source": [
    "### 3.7. Proceso para generar el diccionario con los conceptos y sus jerarquias:\n",
    "**Atencion** ----------- Este proceso dura **48 horas** --------------: **Atencion** ----------------------"
   ]
  },
  {
   "cell_type": "code",
   "execution_count": 22,
   "metadata": {
    "collapsed": true
   },
   "outputs": [],
   "source": [
    "# Proceso para generar el diccionario con los conceptos y sus jerarquias-----\n",
    "#dfSno['jerarquia'] = dfSno.apply(buscaJerDF, axis=1)"
   ]
  },
  {
   "cell_type": "markdown",
   "metadata": {},
   "source": [
    "### 3.8. Actualizar Dataframe dfSnomed-CT para añadir la Jerarquia:"
   ]
  },
  {
   "cell_type": "code",
   "execution_count": 20,
   "metadata": {},
   "outputs": [
    {
     "data": {
      "text/html": [
       "<div>\n",
       "<style>\n",
       "    .dataframe thead tr:only-child th {\n",
       "        text-align: right;\n",
       "    }\n",
       "\n",
       "    .dataframe thead th {\n",
       "        text-align: left;\n",
       "    }\n",
       "\n",
       "    .dataframe tbody tr th {\n",
       "        vertical-align: top;\n",
       "    }\n",
       "</style>\n",
       "<table border=\"1\" class=\"dataframe\">\n",
       "  <thead>\n",
       "    <tr style=\"text-align: right;\">\n",
       "      <th></th>\n",
       "      <th>idConcept</th>\n",
       "      <th>corpus</th>\n",
       "      <th>jerarquia</th>\n",
       "    </tr>\n",
       "  </thead>\n",
       "  <tbody>\n",
       "    <tr>\n",
       "      <th>0</th>\n",
       "      <td>10000006</td>\n",
       "      <td>dolor de pecho irradiado hacia otras zonas</td>\n",
       "      <td>Hallazgo clínico</td>\n",
       "    </tr>\n",
       "    <tr>\n",
       "      <th>1</th>\n",
       "      <td>10001000122108</td>\n",
       "      <td>observaciones de la historia social relacionadas con el habito de fumar  alcohol y dieta</td>\n",
       "      <td>Entidad observable</td>\n",
       "    </tr>\n",
       "    <tr>\n",
       "      <th>2</th>\n",
       "      <td>10001005</td>\n",
       "      <td>septicemia bacteriana | sepsis bacteriana</td>\n",
       "      <td>Hallazgo clínico</td>\n",
       "    </tr>\n",
       "    <tr>\n",
       "      <th>3</th>\n",
       "      <td>10001941000122105</td>\n",
       "      <td>modulo para componentes del nomenclator de formulas magistrales</td>\n",
       "      <td></td>\n",
       "    </tr>\n",
       "    <tr>\n",
       "      <th>4</th>\n",
       "      <td>10002003</td>\n",
       "      <td>reseccion del fondo gastrico | fundectomia gastrica | reseccion de la cupula del estomago</td>\n",
       "      <td>Procedimiento</td>\n",
       "    </tr>\n",
       "  </tbody>\n",
       "</table>\n",
       "</div>"
      ],
      "text/plain": [
       "           idConcept  \\\n",
       "0           10000006   \n",
       "1     10001000122108   \n",
       "2           10001005   \n",
       "3  10001941000122105   \n",
       "4           10002003   \n",
       "\n",
       "                                                                                      corpus  \\\n",
       "0                                                 dolor de pecho irradiado hacia otras zonas   \n",
       "1   observaciones de la historia social relacionadas con el habito de fumar  alcohol y dieta   \n",
       "2                                                  septicemia bacteriana | sepsis bacteriana   \n",
       "3                            modulo para componentes del nomenclator de formulas magistrales   \n",
       "4  reseccion del fondo gastrico | fundectomia gastrica | reseccion de la cupula del estomago   \n",
       "\n",
       "            jerarquia  \n",
       "0    Hallazgo clínico  \n",
       "1  Entidad observable  \n",
       "2    Hallazgo clínico  \n",
       "3                      \n",
       "4       Procedimiento  "
      ]
     },
     "execution_count": 20,
     "metadata": {},
     "output_type": "execute_result"
    }
   ],
   "source": [
    "# Actualizar dfSnomed para añadir la Jerarquia:\n",
    "dfSno.head()"
   ]
  },
  {
   "cell_type": "code",
   "execution_count": 21,
   "metadata": {
    "collapsed": true
   },
   "outputs": [],
   "source": [
    "# Generacion del Corpus de Trabajo final:\n",
    "fich = '/Snomed-CT/Diccionario/Snomed2vec-JerarquiaCorpus.txt'\n",
    "f = p+fich\n",
    "\n",
    "dfSno.to_csv(f, sep='|', encoding='utf_8', header=1, index=False)"
   ]
  },
  {
   "cell_type": "code",
   "execution_count": 23,
   "metadata": {},
   "outputs": [
    {
     "data": {
      "text/plain": [
       "328384"
      ]
     },
     "execution_count": 23,
     "metadata": {},
     "output_type": "execute_result"
    }
   ],
   "source": [
    "len(dfSno)"
   ]
  },
  {
   "cell_type": "markdown",
   "metadata": {},
   "source": [
    "### 3.9. Carga de Datos Snomed IdConcepto y Jerarquias:"
   ]
  },
  {
   "cell_type": "code",
   "execution_count": null,
   "metadata": {
    "collapsed": true
   },
   "outputs": [],
   "source": [
    "# Carga del Snomed-CT.\n",
    "fich = '/Snomed-CT/Diccionario/Snomed2vec-JerarquiaCorpus.txt'\n",
    "\n",
    "f = p+fich\n",
    "dfSnoJer = pd.read_csv(f, sep='|', encoding='utf_8', header=0, dtype='object').fillna('')"
   ]
  },
  {
   "cell_type": "code",
   "execution_count": null,
   "metadata": {
    "collapsed": true
   },
   "outputs": [],
   "source": [
    "print('Comprobacion de tamaño - 328384 - %d' % len(dfSnoJer))"
   ]
  },
  {
   "cell_type": "markdown",
   "metadata": {},
   "source": [
    "### 3.9.1. Unificar en un solo Corpus con todos los datos:"
   ]
  },
  {
   "cell_type": "code",
   "execution_count": null,
   "metadata": {
    "collapsed": true
   },
   "outputs": [],
   "source": [
    "cols=['idConcept','jerarquia']\n",
    "dfSnoJerCorpus = pd.merge(dfSnoJer[cols], dfSnomedSyn, on='idConcept')"
   ]
  },
  {
   "cell_type": "code",
   "execution_count": null,
   "metadata": {
    "collapsed": true
   },
   "outputs": [],
   "source": [
    "dfSnoJerCorpus.head(5)"
   ]
  },
  {
   "cell_type": "markdown",
   "metadata": {
    "collapsed": true
   },
   "source": [
    "### 3.9.2. Guardado del Corpus final de Trabajo:\n",
    "Corpus final **Snomed2vec-Jer-Corpus.txt**"
   ]
  },
  {
   "cell_type": "code",
   "execution_count": null,
   "metadata": {
    "collapsed": true
   },
   "outputs": [],
   "source": [
    "# Generacion del Corpus de Trabajo final:\n",
    "fich = '/Snomed-CT/Diccionario/Snomed2vec-Jer-Corpus.txt'\n",
    "f = p+fich\n",
    "\n",
    "dfSnoJerCorpus.to_csv(f, sep='|', encoding='utf_8', header=1, index=False)"
   ]
  },
  {
   "cell_type": "code",
   "execution_count": 142,
   "metadata": {
    "collapsed": true
   },
   "outputs": [],
   "source": [
    "cols=['idConcept','jerarquia','corpus_Syn']\n",
    "dfSnoWork=dfSnoJerCorpus[cols].copy()"
   ]
  },
  {
   "cell_type": "code",
   "execution_count": 143,
   "metadata": {},
   "outputs": [
    {
     "data": {
      "text/html": [
       "<div>\n",
       "<style>\n",
       "    .dataframe thead tr:only-child th {\n",
       "        text-align: right;\n",
       "    }\n",
       "\n",
       "    .dataframe thead th {\n",
       "        text-align: left;\n",
       "    }\n",
       "\n",
       "    .dataframe tbody tr th {\n",
       "        vertical-align: top;\n",
       "    }\n",
       "</style>\n",
       "<table border=\"1\" class=\"dataframe\">\n",
       "  <thead>\n",
       "    <tr style=\"text-align: right;\">\n",
       "      <th></th>\n",
       "      <th>idConcept</th>\n",
       "      <th>jerarquia</th>\n",
       "      <th>corpus_Syn</th>\n",
       "    </tr>\n",
       "  </thead>\n",
       "  <tbody>\n",
       "    <tr>\n",
       "      <th>0</th>\n",
       "      <td>10000006</td>\n",
       "      <td>Hallazgo clínico</td>\n",
       "      <td>[[dolor, pecho, irradiado, hacia, zonas]]</td>\n",
       "    </tr>\n",
       "    <tr>\n",
       "      <th>1</th>\n",
       "      <td>10001000122108</td>\n",
       "      <td>Entidad observable</td>\n",
       "      <td>[[observaciones, historia, social, relacionadas, habito, fumar, alcohol, y, dieta]]</td>\n",
       "    </tr>\n",
       "    <tr>\n",
       "      <th>2</th>\n",
       "      <td>10001005</td>\n",
       "      <td>Hallazgo clínico</td>\n",
       "      <td>[[septicemia, bacteriana], [sepsis, bacteriana]]</td>\n",
       "    </tr>\n",
       "    <tr>\n",
       "      <th>3</th>\n",
       "      <td>10001941000122105</td>\n",
       "      <td></td>\n",
       "      <td>[[modulo, componentes, nomenclator, formulas, magistrales]]</td>\n",
       "    </tr>\n",
       "  </tbody>\n",
       "</table>\n",
       "</div>"
      ],
      "text/plain": [
       "           idConcept           jerarquia  \\\n",
       "0           10000006    Hallazgo clínico   \n",
       "1     10001000122108  Entidad observable   \n",
       "2           10001005    Hallazgo clínico   \n",
       "3  10001941000122105                       \n",
       "\n",
       "                                                                            corpus_Syn  \n",
       "0                                            [[dolor, pecho, irradiado, hacia, zonas]]  \n",
       "1  [[observaciones, historia, social, relacionadas, habito, fumar, alcohol, y, dieta]]  \n",
       "2                                     [[septicemia, bacteriana], [sepsis, bacteriana]]  \n",
       "3                          [[modulo, componentes, nomenclator, formulas, magistrales]]  "
      ]
     },
     "execution_count": 143,
     "metadata": {},
     "output_type": "execute_result"
    }
   ],
   "source": [
    "dfSnoWork.head(4)"
   ]
  },
  {
   "cell_type": "code",
   "execution_count": 144,
   "metadata": {},
   "outputs": [
    {
     "name": "stdout",
     "output_type": "stream",
     "text": [
      "Comprobacion de tamaño - 328384 - 328384\n"
     ]
    }
   ],
   "source": [
    "print('Comprobacion de tamaño - 328384 - %d' % len(dfSnoWork))"
   ]
  },
  {
   "cell_type": "code",
   "execution_count": 145,
   "metadata": {
    "collapsed": true
   },
   "outputs": [],
   "source": [
    "# Generacion del Corpus de Trabajo final: (Sin el campo corpus_token)\n",
    "fich = '/Snomed-CT/Diccionario/Snomed2vec-Jer-work.txt'\n",
    "f = p+fich\n",
    "\n",
    "dfSnoWork.to_csv(f, sep='|', encoding='utf_8', header=1, index=False)"
   ]
  },
  {
   "cell_type": "markdown",
   "metadata": {},
   "source": [
    "## 4 - Creación del modelo Word2Vec:\n",
    "### Utilizando los Informes de Alta de Urgencias + las Descripciones de los términos de Snomed-CT\n",
    "**Prueba de Modelo 01** (Datos obtenidos de los Informes de Alta:<br>\n",
    "*SkipGram, vector size 300, windows= 10, Negative=0, min=1*"
   ]
  },
  {
   "cell_type": "markdown",
   "metadata": {},
   "source": [
    "### 4.1 Carga de Datos de la estructura de Snomed-CT final:(Opcion 1.)\n",
    "**Snomed-CorpusTerm-Jer.txt** <br>\n",
    "Contiene una linea por cada descripcion del concepto (idConcept, cospusTerm, jerarquia)\n",
    "Creamos el dataframe **dfSnoWork**"
   ]
  },
  {
   "cell_type": "code",
   "execution_count": 2,
   "metadata": {
    "collapsed": true
   },
   "outputs": [],
   "source": [
    "# Carga de Datos para el Trabajo final:\n",
    "fich = '/DataWork/Snomed-CorpusTerm-Jer.txt'\n",
    "f = p+fich\n",
    "\n",
    "dfSnoWork = pd.read_csv(f, sep='|', encoding='utf_8', header=0, dtype='object').fillna('')"
   ]
  },
  {
   "cell_type": "code",
   "execution_count": 3,
   "metadata": {},
   "outputs": [
    {
     "data": {
      "text/html": [
       "<div>\n",
       "<style>\n",
       "    .dataframe thead tr:only-child th {\n",
       "        text-align: right;\n",
       "    }\n",
       "\n",
       "    .dataframe thead th {\n",
       "        text-align: left;\n",
       "    }\n",
       "\n",
       "    .dataframe tbody tr th {\n",
       "        vertical-align: top;\n",
       "    }\n",
       "</style>\n",
       "<table border=\"1\" class=\"dataframe\">\n",
       "  <thead>\n",
       "    <tr style=\"text-align: right;\">\n",
       "      <th></th>\n",
       "      <th>idConcept</th>\n",
       "      <th>corpusTerm</th>\n",
       "      <th>jerarquia</th>\n",
       "    </tr>\n",
       "  </thead>\n",
       "  <tbody>\n",
       "    <tr>\n",
       "      <th>0</th>\n",
       "      <td>102002</td>\n",
       "      <td>[hemoglobina, okaloosa]</td>\n",
       "      <td>Sustancia</td>\n",
       "    </tr>\n",
       "    <tr>\n",
       "      <th>1</th>\n",
       "      <td>102002</td>\n",
       "      <td>[hb, 48, cd7, leu, arg]</td>\n",
       "      <td>Sustancia</td>\n",
       "    </tr>\n",
       "    <tr>\n",
       "      <th>2</th>\n",
       "      <td>103007</td>\n",
       "      <td>[virus, fibroma, ardillas]</td>\n",
       "      <td>Organismo</td>\n",
       "    </tr>\n",
       "    <tr>\n",
       "      <th>3</th>\n",
       "      <td>104001</td>\n",
       "      <td>[escision, lesion, rotula]</td>\n",
       "      <td>Procedimiento</td>\n",
       "    </tr>\n",
       "    <tr>\n",
       "      <th>4</th>\n",
       "      <td>104001</td>\n",
       "      <td>[escision, local, lesion, o, tejido, rotula]</td>\n",
       "      <td>Procedimiento</td>\n",
       "    </tr>\n",
       "  </tbody>\n",
       "</table>\n",
       "</div>"
      ],
      "text/plain": [
       "  idConcept                                    corpusTerm      jerarquia\n",
       "0    102002                       [hemoglobina, okaloosa]      Sustancia\n",
       "1    102002                       [hb, 48, cd7, leu, arg]      Sustancia\n",
       "2    103007                    [virus, fibroma, ardillas]      Organismo\n",
       "3    104001                    [escision, lesion, rotula]  Procedimiento\n",
       "4    104001  [escision, local, lesion, o, tejido, rotula]  Procedimiento"
      ]
     },
     "execution_count": 3,
     "metadata": {},
     "output_type": "execute_result"
    }
   ],
   "source": [
    "# Convertir los datos cargados en listas de texto, despues de cargar los datos.\n",
    "from ast import literal_eval\n",
    "dfSnoWork['corpusTerm'] = dfSnoWork['corpusTerm'].apply(literal_eval)\n",
    "dfSnoWork.head()"
   ]
  },
  {
   "cell_type": "code",
   "execution_count": 4,
   "metadata": {},
   "outputs": [
    {
     "name": "stdout",
     "output_type": "stream",
     "text": [
      "Tamaño del dataframe Opcion.2. = 516211, para la gestion de los códigos de Snomed: 516211\n"
     ]
    }
   ],
   "source": [
    "print('Tamaño del dataframe Opcion.2. = 516211, para la gestion de los códigos de Snomed: %d' % len(dfSnoWork))"
   ]
  },
  {
   "cell_type": "code",
   "execution_count": null,
   "metadata": {
    "collapsed": true
   },
   "outputs": [],
   "source": []
  },
  {
   "cell_type": "code",
   "execution_count": null,
   "metadata": {
    "collapsed": true
   },
   "outputs": [],
   "source": []
  },
  {
   "cell_type": "markdown",
   "metadata": {},
   "source": [
    "### 4.3 Generación del Modelo 01 (Word2Vec)- Modelo Espacio Vectorial Opcion 1.\n",
    "**Modelo generado de los Informes de Alta del Hospital** (opcion Modelo 1)\n",
    "\n",
    "Modelo: **SkipGram, vector size 300, windows= 3, Negative=0, min=1** utilizando  la  libreria gensim sobre los Informes de ALta del Hospital. "
   ]
  },
  {
   "cell_type": "code",
   "execution_count": 8,
   "metadata": {},
   "outputs": [
    {
     "name": "stderr",
     "output_type": "stream",
     "text": [
      "2018-09-18 18:07:31,564 : INFO : loading projection weights from /media/nacho/DatosHD/Doctorado/codigo/Models/w2v-SK-s300-w5-min2.txt\n",
      "2018-09-18 18:07:47,558 : INFO : loaded (98103, 300) matrix from /media/nacho/DatosHD/Doctorado/codigo/Models/w2v-SK-s300-w5-min2.txt\n"
     ]
    }
   ],
   "source": [
    "# Carga de un modelo Skip-Gram, con tamaño vector de 300\n",
    "from gensim.models.keyedvectors import KeyedVectors\n",
    "#fich = '/Models/w2v-SK-s300-w5.txt'\n",
    "fich = '/Models/w2v-SK-s300-w5-min2.txt'\n",
    "#fich = '/Models/w2v-SK-s50-w15-Neg10.txt'\n",
    "f = p+fich\n",
    "w2v_InfAltaSK = KeyedVectors.load_word2vec_format(f, binary=False)"
   ]
  },
  {
   "cell_type": "markdown",
   "metadata": {},
   "source": [
    "### 4.3 - Carga del modelo Word2Vec: Creado Sobre las descripciones de Snomed-CT (opcion2)\n",
    "SkipGram, vector size 300, windows= 3, Negative=0, min=1"
   ]
  },
  {
   "cell_type": "code",
   "execution_count": 5,
   "metadata": {},
   "outputs": [
    {
     "name": "stderr",
     "output_type": "stream",
     "text": [
      "2018-10-04 18:26:33,163 : INFO : loading projection weights from /media/nacho/DatosHD/Doctorado/codigo/Models/w2v-SK-s300-w5-m2-Key.txt\n",
      "2018-10-04 18:27:19,962 : INFO : loaded (294700, 300) matrix from /media/nacho/DatosHD/Doctorado/codigo/Models/w2v-SK-s300-w5-m2-Key.txt\n"
     ]
    }
   ],
   "source": [
    "# Carga de un modelo Skip-Gram, con tamaño vector de 300\n",
    "from gensim.models.keyedvectors import KeyedVectors\n",
    "#fich = '/Models/w2vSnomed-SK-s300-w3.txt'\n",
    "fich = '/Models/w2v-SK-s300-w5-m2-Total-Key.txt'\n",
    "f = p+fich\n",
    "w2v_SnomedSK = KeyedVectors.load_word2vec_format(f, binary=False)"
   ]
  },
  {
   "cell_type": "markdown",
   "metadata": {},
   "source": [
    "### 4.4 - Carga del modelo Word2Vec: Creado Sobre Wikipedia Español  (opcion3):\n",
    "CBoW, vector size 300, windows= 3, Negative=0, min=1"
   ]
  },
  {
   "cell_type": "code",
   "execution_count": 6,
   "metadata": {},
   "outputs": [
    {
     "name": "stderr",
     "output_type": "stream",
     "text": [
      "2018-09-30 09:26:33,385 : INFO : loading projection weights from /media/nacho/DatosHD/Doctorado/codigo/Models/SBW-vectors-300-min5.txt\n",
      "2018-09-30 09:29:24,958 : INFO : loaded (1000653, 300) matrix from /media/nacho/DatosHD/Doctorado/codigo/Models/SBW-vectors-300-min5.txt\n"
     ]
    }
   ],
   "source": [
    "# Carga de un modelo Skip-Gram, con tamaño vector de 300\n",
    "from gensim.models.keyedvectors import KeyedVectors\n",
    "fich = '/Models/SBW-vectors-300-min5.txt'\n",
    "f = p+fich\n",
    "w2v_wikiCBoW= KeyedVectors.load_word2vec_format(f, binary=False)"
   ]
  },
  {
   "cell_type": "markdown",
   "metadata": {},
   "source": [
    "## 5. Creación de los vectores para las descripciones de Snomed-CT:\n",
    "\n",
    "Una vez elegido el Modelo, se utilizará,para generar los vectores de cada descripción de Snomed-CT.\n",
    "\n",
    "El vector generado para la descripción **[d]** está formado  por:\n",
    "* $ Descripcion (d) = (w_1,w_2,...,w_n), V[d] = \\sum_{i=1}^{n}v[x_{i}]=v[x_{1}]+v[x_{2}]+...+v[x_{n}] $\n",
    "\n"
   ]
  },
  {
   "cell_type": "markdown",
   "metadata": {},
   "source": [
    "### 5.1. Crear Vector para cada token de la frase.\n",
    "Generación de los vectores de los tokens de cada frase.<br>\n",
    "\n",
    "* Funcion: **vectorTotal(listGramas, size):**\n",
    "    * Entrada: **listGramas**, lista de n-gramas generados, **size**, tamaño del vector, según modelo W2V.\n",
    "    * Salida: Vectores asociados a cada frase, si es 1-grama -> Salida Vector(token).<br>\n",
    "      Si la frase tiene **n** gramas -> <br>\n",
    "      Salida:$$(V[p]=v[tk_{1}]+v[tk_{2}]+...+v[tk_{n}])$$"
   ]
  },
  {
   "cell_type": "code",
   "execution_count": 8,
   "metadata": {
    "collapsed": true
   },
   "outputs": [],
   "source": [
    "# Funcion: lista de Frase, con ngramas en sublistas - > Devuelve el Vector segun el modelo cargado\n",
    "\n",
    "# Entrada: (lstgramas=[['fiebre','amarilla'],['tos']], size=300)\n",
    "# Salida: Vector para cada item de de la lista\n",
    "\n",
    "def vectorTotal(lstgrams,size):\n",
    "    output=[]\n",
    "    for item in lstgrams:\n",
    "        buffer=np.zeros((size,), dtype=np.float32)\n",
    "        for w in item:\n",
    "            try:\n",
    "                buffer = buffer + w2v_InfAltaSK.word_vec(w)\n",
    "            except:\n",
    "                # Si el token no está en el vocabulario del Modelo, se descarta todos los ngramas\n",
    "                buffer = buffer + np.zeros((size,), dtype=np.float32)\n",
    "                #break\n",
    "        output.append((item, buffer))\n",
    "    return output"
   ]
  },
  {
   "cell_type": "code",
   "execution_count": 7,
   "metadata": {
    "collapsed": true
   },
   "outputs": [],
   "source": [
    "# Funcion: lista de Frase, con ngramas en sublistas - > Devuelve el Vector segun el modelo cargado\n",
    "\n",
    "# Entrada: (lstgramas=['fiebre','amarilla'], model, size=300)\n",
    "# Salida: Vector para cada item de de la lista\n",
    "\n",
    "def vectorTotalOpci2(lstgrams,model,size):\n",
    "    output=[]\n",
    "    buffer=np.zeros((size,), dtype=np.float32)\n",
    "    for w in lstgrams:\n",
    "        try:\n",
    "            buffer = buffer + model.word_vec(w)\n",
    "        except:\n",
    "            # Si el token no está en el vocabulario del Modelo, se genera un vector con 0.0\n",
    "            buffer = buffer + np.zeros((size,), dtype=np.float32)\n",
    "\n",
    "    output.append(buffer)\n",
    "    return output"
   ]
  },
  {
   "cell_type": "markdown",
   "metadata": {},
   "source": [
    "### 5.2. Creación vectores finales todo el Snomed-CT.\n",
    "Se genera un vector para cada descripción de cada concepto y se genera la matriz de conceptos.\n",
    "Dos definiciones de la funcion **creaVecSnomed**"
   ]
  },
  {
   "cell_type": "code",
   "execution_count": 10,
   "metadata": {
    "collapsed": true
   },
   "outputs": [],
   "source": [
    "def creaVecSnomed(row):\n",
    "    #output=[]\n",
    "    #desc=row.corpus_Syn.tolist()\n",
    "    desc=row.corpus_Syn\n",
    "    cod = row.idConcept\n",
    "    #print(desc[0])\n",
    "    logging.info(\"PROGRESS: Id-Concept #%i \", int(cod) )\n",
    "    #return vectorTotal(desc[0], 300)\n",
    "    return vectorTotal(desc, 300)"
   ]
  },
  {
   "cell_type": "code",
   "execution_count": 11,
   "metadata": {
    "collapsed": true
   },
   "outputs": [],
   "source": [
    "def creaVecSnomedOpci2(row):\n",
    "\n",
    "    desc=row.corpusTerm\n",
    "    cod = row.idConcept\n",
    "    #logging.info(\"PROGRESS - Opcion 2.: Id-Concept #%i \", int(cod) )\n",
    "    output=[]\n",
    "    buffer=np.zeros((300,), dtype=np.float32)\n",
    "    for w in desc:\n",
    "        try:\n",
    "            buffer = buffer + w2v_InfAltaSK.word_vec(w)\n",
    "        except:   \n",
    "            buffer = buffer + np.zeros((300,), dtype=np.float32)\n",
    "\n",
    "    output.append(buffer)   \n",
    "    \n",
    "    return output"
   ]
  },
  {
   "cell_type": "code",
   "execution_count": 10,
   "metadata": {
    "collapsed": true
   },
   "outputs": [],
   "source": [
    "def creaVecSnomedOpci3(row):\n",
    "\n",
    "    desc=row.corpus\n",
    "    cod = row.idConcept\n",
    "    \n",
    "    output=[]\n",
    "    buffer=np.zeros((300,), dtype=np.float32)\n",
    "    for w in desc:\n",
    "        try:\n",
    "            buffer = buffer + w2v_wikiCBoW.word_vec(w)\n",
    "        except:   \n",
    "            buffer = buffer + np.zeros((300,), dtype=np.float32)\n",
    "\n",
    "    output.append(buffer)   \n",
    "    \n",
    "    return output"
   ]
  },
  {
   "cell_type": "code",
   "execution_count": 11,
   "metadata": {
    "collapsed": true
   },
   "outputs": [],
   "source": [
    "def creaVecSnomedOpci4(row):\n",
    "\n",
    "    desc=row.corpusTerm\n",
    "    cod = row.idConcept\n",
    "    \n",
    "    output=[]\n",
    "    buffer=np.zeros((300,), dtype=np.float32)\n",
    "    for w in desc:\n",
    "        try:\n",
    "            buffer = buffer + w2v_SnomedSK.word_vec(w)\n",
    "        except:   \n",
    "            buffer = buffer + np.zeros((300,), dtype=np.float32)\n",
    "\n",
    "    output.append(buffer)   \n",
    "    \n",
    "    return output"
   ]
  },
  {
   "cell_type": "markdown",
   "metadata": {},
   "source": [
    "### Creación del Vector Opcion 01.\n",
    "Se genera los vectores utilizando los tokens de cada sinónimo, utilizamos el campo **corpus_Sym**"
   ]
  },
  {
   "cell_type": "code",
   "execution_count": null,
   "metadata": {
    "collapsed": true
   },
   "outputs": [],
   "source": [
    "# Creacion Modelo Opcion 01--------------------------------------------------------:\n",
    "#cols=['idConcept', 'jerarquia', 'corpus_Syn']\n",
    "dfSnoWork['vecSnom']=dfSnoWork.apply(creaVecSnomed, axis=1)"
   ]
  },
  {
   "cell_type": "code",
   "execution_count": 10,
   "metadata": {},
   "outputs": [
    {
     "name": "stdout",
     "output_type": "stream",
     "text": [
      "Tamaño del dataframe para la gestion de los códigos de Snomed: 328384\n"
     ]
    }
   ],
   "source": [
    "print('Tamaño del dataframe para la gestion de los códigos de Snomed: %d' % len(dfSnoWork))"
   ]
  },
  {
   "cell_type": "code",
   "execution_count": 11,
   "metadata": {},
   "outputs": [
    {
     "data": {
      "text/html": [
       "<div>\n",
       "<style>\n",
       "    .dataframe thead tr:only-child th {\n",
       "        text-align: right;\n",
       "    }\n",
       "\n",
       "    .dataframe thead th {\n",
       "        text-align: left;\n",
       "    }\n",
       "\n",
       "    .dataframe tbody tr th {\n",
       "        vertical-align: top;\n",
       "    }\n",
       "</style>\n",
       "<table border=\"1\" class=\"dataframe\">\n",
       "  <thead>\n",
       "    <tr style=\"text-align: right;\">\n",
       "      <th></th>\n",
       "      <th>idConcept</th>\n",
       "      <th>jerarquia</th>\n",
       "      <th>corpus_Syn</th>\n",
       "      <th>vecSnom</th>\n",
       "    </tr>\n",
       "  </thead>\n",
       "  <tbody>\n",
       "    <tr>\n",
       "      <th>0</th>\n",
       "      <td>10000006</td>\n",
       "      <td>Hallazgo clínico</td>\n",
       "      <td>[[dolor, pecho, irradiado, hacia, zonas]]</td>\n",
       "      <td>[([dolor, pecho, irradiado, hacia, zonas], [-1.49022, 2.47072, -0.73461, -0.84359, -0.613186, -1...</td>\n",
       "    </tr>\n",
       "    <tr>\n",
       "      <th>1</th>\n",
       "      <td>10001000122108</td>\n",
       "      <td>Entidad observable</td>\n",
       "      <td>[[observaciones, historia, social, relacionadas, habito, fumar, alcohol, y, dieta]]</td>\n",
       "      <td>[([observaciones, historia, social, relacionadas, habito, fumar, alcohol, y, dieta], [3.99719, -...</td>\n",
       "    </tr>\n",
       "    <tr>\n",
       "      <th>2</th>\n",
       "      <td>10001005</td>\n",
       "      <td>Hallazgo clínico</td>\n",
       "      <td>[[septicemia, bacteriana], [sepsis, bacteriana]]</td>\n",
       "      <td>[([septicemia, bacteriana], [-0.116421, 0.750128, 0.433537, -0.776152, -0.166538, -0.133608, 0.0...</td>\n",
       "    </tr>\n",
       "    <tr>\n",
       "      <th>3</th>\n",
       "      <td>10001941000122105</td>\n",
       "      <td></td>\n",
       "      <td>[[modulo, componentes, nomenclator, formulas, magistrales]]</td>\n",
       "      <td>[([modulo, componentes, nomenclator, formulas, magistrales], [0.095383, 0.155171, -0.002558, -0....</td>\n",
       "    </tr>\n",
       "    <tr>\n",
       "      <th>4</th>\n",
       "      <td>10002003</td>\n",
       "      <td>Procedimiento</td>\n",
       "      <td>[[reseccion, fondo, gastrico], [fundectomia, gastrica], [reseccion, cupula, estomago]]</td>\n",
       "      <td>[([reseccion, fondo, gastrico], [1.15609, 0.55614, -0.024078, -0.230703, -0.447392, -0.950934, -...</td>\n",
       "    </tr>\n",
       "  </tbody>\n",
       "</table>\n",
       "</div>"
      ],
      "text/plain": [
       "           idConcept           jerarquia  \\\n",
       "0           10000006    Hallazgo clínico   \n",
       "1     10001000122108  Entidad observable   \n",
       "2           10001005    Hallazgo clínico   \n",
       "3  10001941000122105                       \n",
       "4           10002003       Procedimiento   \n",
       "\n",
       "                                                                               corpus_Syn  \\\n",
       "0                                               [[dolor, pecho, irradiado, hacia, zonas]]   \n",
       "1     [[observaciones, historia, social, relacionadas, habito, fumar, alcohol, y, dieta]]   \n",
       "2                                        [[septicemia, bacteriana], [sepsis, bacteriana]]   \n",
       "3                             [[modulo, componentes, nomenclator, formulas, magistrales]]   \n",
       "4  [[reseccion, fondo, gastrico], [fundectomia, gastrica], [reseccion, cupula, estomago]]   \n",
       "\n",
       "                                                                                               vecSnom  \n",
       "0  [([dolor, pecho, irradiado, hacia, zonas], [-1.49022, 2.47072, -0.73461, -0.84359, -0.613186, -1...  \n",
       "1  [([observaciones, historia, social, relacionadas, habito, fumar, alcohol, y, dieta], [3.99719, -...  \n",
       "2  [([septicemia, bacteriana], [-0.116421, 0.750128, 0.433537, -0.776152, -0.166538, -0.133608, 0.0...  \n",
       "3  [([modulo, componentes, nomenclator, formulas, magistrales], [0.095383, 0.155171, -0.002558, -0....  \n",
       "4  [([reseccion, fondo, gastrico], [1.15609, 0.55614, -0.024078, -0.230703, -0.447392, -0.950934, -...  "
      ]
     },
     "execution_count": 11,
     "metadata": {},
     "output_type": "execute_result"
    }
   ],
   "source": [
    "dfSnoWork.head()"
   ]
  },
  {
   "cell_type": "markdown",
   "metadata": {},
   "source": [
    "### 5.2.1. Creacion delModelo final, para la opción 2. Una linea por cada descripcion y concepto."
   ]
  },
  {
   "cell_type": "code",
   "execution_count": 8,
   "metadata": {},
   "outputs": [
    {
     "data": {
      "text/html": [
       "<div>\n",
       "<style>\n",
       "    .dataframe thead tr:only-child th {\n",
       "        text-align: right;\n",
       "    }\n",
       "\n",
       "    .dataframe thead th {\n",
       "        text-align: left;\n",
       "    }\n",
       "\n",
       "    .dataframe tbody tr th {\n",
       "        vertical-align: top;\n",
       "    }\n",
       "</style>\n",
       "<table border=\"1\" class=\"dataframe\">\n",
       "  <thead>\n",
       "    <tr style=\"text-align: right;\">\n",
       "      <th></th>\n",
       "      <th>idConcept</th>\n",
       "      <th>corpusTerm</th>\n",
       "      <th>jerarquia</th>\n",
       "    </tr>\n",
       "  </thead>\n",
       "  <tbody>\n",
       "    <tr>\n",
       "      <th>0</th>\n",
       "      <td>102002</td>\n",
       "      <td>[hemoglobina, okaloosa]</td>\n",
       "      <td>Sustancia</td>\n",
       "    </tr>\n",
       "    <tr>\n",
       "      <th>1</th>\n",
       "      <td>102002</td>\n",
       "      <td>[hb, 48, cd7, leu, arg]</td>\n",
       "      <td>Sustancia</td>\n",
       "    </tr>\n",
       "    <tr>\n",
       "      <th>2</th>\n",
       "      <td>103007</td>\n",
       "      <td>[virus, fibroma, ardillas]</td>\n",
       "      <td>Organismo</td>\n",
       "    </tr>\n",
       "    <tr>\n",
       "      <th>3</th>\n",
       "      <td>104001</td>\n",
       "      <td>[escision, lesion, rotula]</td>\n",
       "      <td>Procedimiento</td>\n",
       "    </tr>\n",
       "    <tr>\n",
       "      <th>4</th>\n",
       "      <td>104001</td>\n",
       "      <td>[escision, local, lesion, o, tejido, rotula]</td>\n",
       "      <td>Procedimiento</td>\n",
       "    </tr>\n",
       "    <tr>\n",
       "      <th>5</th>\n",
       "      <td>104001</td>\n",
       "      <td>[escision, lesion, rotula]</td>\n",
       "      <td>Procedimiento</td>\n",
       "    </tr>\n",
       "    <tr>\n",
       "      <th>6</th>\n",
       "      <td>104001</td>\n",
       "      <td>[reseccion, lesion, rotula]</td>\n",
       "      <td>Procedimiento</td>\n",
       "    </tr>\n",
       "    <tr>\n",
       "      <th>7</th>\n",
       "      <td>104001</td>\n",
       "      <td>[reseccion, lesion, rotula]</td>\n",
       "      <td>Procedimiento</td>\n",
       "    </tr>\n",
       "    <tr>\n",
       "      <th>8</th>\n",
       "      <td>106004</td>\n",
       "      <td>[estructura, region, carpiana, posterior]</td>\n",
       "      <td>Estructura corporal</td>\n",
       "    </tr>\n",
       "    <tr>\n",
       "      <th>9</th>\n",
       "      <td>106004</td>\n",
       "      <td>[region, carpiana, posterior]</td>\n",
       "      <td>Estructura corporal</td>\n",
       "    </tr>\n",
       "    <tr>\n",
       "      <th>10</th>\n",
       "      <td>107008</td>\n",
       "      <td>[estructura, porcion, fetal, placenta]</td>\n",
       "      <td>Estructura corporal</td>\n",
       "    </tr>\n",
       "  </tbody>\n",
       "</table>\n",
       "</div>"
      ],
      "text/plain": [
       "   idConcept                                    corpusTerm  \\\n",
       "0     102002                       [hemoglobina, okaloosa]   \n",
       "1     102002                       [hb, 48, cd7, leu, arg]   \n",
       "2     103007                    [virus, fibroma, ardillas]   \n",
       "3     104001                    [escision, lesion, rotula]   \n",
       "4     104001  [escision, local, lesion, o, tejido, rotula]   \n",
       "5     104001                    [escision, lesion, rotula]   \n",
       "6     104001                   [reseccion, lesion, rotula]   \n",
       "7     104001                   [reseccion, lesion, rotula]   \n",
       "8     106004     [estructura, region, carpiana, posterior]   \n",
       "9     106004                 [region, carpiana, posterior]   \n",
       "10    107008        [estructura, porcion, fetal, placenta]   \n",
       "\n",
       "              jerarquia  \n",
       "0             Sustancia  \n",
       "1             Sustancia  \n",
       "2             Organismo  \n",
       "3         Procedimiento  \n",
       "4         Procedimiento  \n",
       "5         Procedimiento  \n",
       "6         Procedimiento  \n",
       "7         Procedimiento  \n",
       "8   Estructura corporal  \n",
       "9   Estructura corporal  \n",
       "10  Estructura corporal  "
      ]
     },
     "execution_count": 8,
     "metadata": {},
     "output_type": "execute_result"
    }
   ],
   "source": [
    "dfSnoWork.loc[0:10]"
   ]
  },
  {
   "cell_type": "code",
   "execution_count": 9,
   "metadata": {
    "collapsed": true
   },
   "outputs": [],
   "source": [
    "# Creacion Modelo Opcion 02:\n",
    "dfSnoWork['vecSnom']=dfSnoWork.apply(creaVecSnomedOpci2, axis=1)"
   ]
  },
  {
   "cell_type": "code",
   "execution_count": 10,
   "metadata": {},
   "outputs": [
    {
     "data": {
      "text/html": [
       "<div>\n",
       "<style>\n",
       "    .dataframe thead tr:only-child th {\n",
       "        text-align: right;\n",
       "    }\n",
       "\n",
       "    .dataframe thead th {\n",
       "        text-align: left;\n",
       "    }\n",
       "\n",
       "    .dataframe tbody tr th {\n",
       "        vertical-align: top;\n",
       "    }\n",
       "</style>\n",
       "<table border=\"1\" class=\"dataframe\">\n",
       "  <thead>\n",
       "    <tr style=\"text-align: right;\">\n",
       "      <th></th>\n",
       "      <th>idConcept</th>\n",
       "      <th>corpusTerm</th>\n",
       "      <th>jerarquia</th>\n",
       "      <th>vecSnom</th>\n",
       "    </tr>\n",
       "  </thead>\n",
       "  <tbody>\n",
       "    <tr>\n",
       "      <th>0</th>\n",
       "      <td>102002</td>\n",
       "      <td>[hemoglobina, okaloosa]</td>\n",
       "      <td>Sustancia</td>\n",
       "      <td>[[-0.001869, -0.106874, -0.030565, -0.029062, -0.006448, 0.024021, -0.046014, -0.031549, -0.0867...</td>\n",
       "    </tr>\n",
       "    <tr>\n",
       "      <th>1</th>\n",
       "      <td>102002</td>\n",
       "      <td>[hb, 48, cd7, leu, arg]</td>\n",
       "      <td>Sustancia</td>\n",
       "      <td>[[0.132827, -0.037834, -0.160544, -0.15251, 0.075627, -0.151947, -0.02046, 0.102717, 0.015968, -...</td>\n",
       "    </tr>\n",
       "    <tr>\n",
       "      <th>2</th>\n",
       "      <td>103007</td>\n",
       "      <td>[virus, fibroma, ardillas]</td>\n",
       "      <td>Organismo</td>\n",
       "      <td>[[0.159795, -0.12543, 0.013634, 0.064749, 0.198714, -0.031992, -0.009603, -0.013956, -0.073225, ...</td>\n",
       "    </tr>\n",
       "    <tr>\n",
       "      <th>3</th>\n",
       "      <td>104001</td>\n",
       "      <td>[escision, lesion, rotula]</td>\n",
       "      <td>Procedimiento</td>\n",
       "      <td>[[0.226914, -0.014378, 0.117642, -0.132778, -0.020993, 0.016509, -0.036435, -0.101064, -0.041278...</td>\n",
       "    </tr>\n",
       "    <tr>\n",
       "      <th>4</th>\n",
       "      <td>104001</td>\n",
       "      <td>[escision, local, lesion, o, tejido, rotula]</td>\n",
       "      <td>Procedimiento</td>\n",
       "      <td>[[0.160725, -0.313286, 0.246844, -0.291712, -0.074453, -0.062273, -0.136308, -0.108905, 0.086968...</td>\n",
       "    </tr>\n",
       "    <tr>\n",
       "      <th>5</th>\n",
       "      <td>104001</td>\n",
       "      <td>[escision, lesion, rotula]</td>\n",
       "      <td>Procedimiento</td>\n",
       "      <td>[[0.226914, -0.014378, 0.117642, -0.132778, -0.020993, 0.016509, -0.036435, -0.101064, -0.041278...</td>\n",
       "    </tr>\n",
       "    <tr>\n",
       "      <th>6</th>\n",
       "      <td>104001</td>\n",
       "      <td>[reseccion, lesion, rotula]</td>\n",
       "      <td>Procedimiento</td>\n",
       "      <td>[[0.226914, -0.014378, 0.117642, -0.132778, -0.020993, 0.016509, -0.036435, -0.101064, -0.041278...</td>\n",
       "    </tr>\n",
       "    <tr>\n",
       "      <th>7</th>\n",
       "      <td>104001</td>\n",
       "      <td>[reseccion, lesion, rotula]</td>\n",
       "      <td>Procedimiento</td>\n",
       "      <td>[[0.226914, -0.014378, 0.117642, -0.132778, -0.020993, 0.016509, -0.036435, -0.101064, -0.041278...</td>\n",
       "    </tr>\n",
       "    <tr>\n",
       "      <th>8</th>\n",
       "      <td>106004</td>\n",
       "      <td>[estructura, region, carpiana, posterior]</td>\n",
       "      <td>Estructura corporal</td>\n",
       "      <td>[[0.262904, -0.125199, 0.076631, -0.148731, -0.076016, 0.015141, -0.185137, 0.098186, 0.236993, ...</td>\n",
       "    </tr>\n",
       "    <tr>\n",
       "      <th>9</th>\n",
       "      <td>106004</td>\n",
       "      <td>[region, carpiana, posterior]</td>\n",
       "      <td>Estructura corporal</td>\n",
       "      <td>[[0.186643, -0.06458, 0.055436, -0.164874, -0.067108, -0.092796, -0.080163, -0.036678, 0.176424,...</td>\n",
       "    </tr>\n",
       "  </tbody>\n",
       "</table>\n",
       "</div>"
      ],
      "text/plain": [
       "  idConcept                                    corpusTerm  \\\n",
       "0    102002                       [hemoglobina, okaloosa]   \n",
       "1    102002                       [hb, 48, cd7, leu, arg]   \n",
       "2    103007                    [virus, fibroma, ardillas]   \n",
       "3    104001                    [escision, lesion, rotula]   \n",
       "4    104001  [escision, local, lesion, o, tejido, rotula]   \n",
       "5    104001                    [escision, lesion, rotula]   \n",
       "6    104001                   [reseccion, lesion, rotula]   \n",
       "7    104001                   [reseccion, lesion, rotula]   \n",
       "8    106004     [estructura, region, carpiana, posterior]   \n",
       "9    106004                 [region, carpiana, posterior]   \n",
       "\n",
       "             jerarquia  \\\n",
       "0            Sustancia   \n",
       "1            Sustancia   \n",
       "2            Organismo   \n",
       "3        Procedimiento   \n",
       "4        Procedimiento   \n",
       "5        Procedimiento   \n",
       "6        Procedimiento   \n",
       "7        Procedimiento   \n",
       "8  Estructura corporal   \n",
       "9  Estructura corporal   \n",
       "\n",
       "                                                                                               vecSnom  \n",
       "0  [[-0.001869, -0.106874, -0.030565, -0.029062, -0.006448, 0.024021, -0.046014, -0.031549, -0.0867...  \n",
       "1  [[0.132827, -0.037834, -0.160544, -0.15251, 0.075627, -0.151947, -0.02046, 0.102717, 0.015968, -...  \n",
       "2  [[0.159795, -0.12543, 0.013634, 0.064749, 0.198714, -0.031992, -0.009603, -0.013956, -0.073225, ...  \n",
       "3  [[0.226914, -0.014378, 0.117642, -0.132778, -0.020993, 0.016509, -0.036435, -0.101064, -0.041278...  \n",
       "4  [[0.160725, -0.313286, 0.246844, -0.291712, -0.074453, -0.062273, -0.136308, -0.108905, 0.086968...  \n",
       "5  [[0.226914, -0.014378, 0.117642, -0.132778, -0.020993, 0.016509, -0.036435, -0.101064, -0.041278...  \n",
       "6  [[0.226914, -0.014378, 0.117642, -0.132778, -0.020993, 0.016509, -0.036435, -0.101064, -0.041278...  \n",
       "7  [[0.226914, -0.014378, 0.117642, -0.132778, -0.020993, 0.016509, -0.036435, -0.101064, -0.041278...  \n",
       "8  [[0.262904, -0.125199, 0.076631, -0.148731, -0.076016, 0.015141, -0.185137, 0.098186, 0.236993, ...  \n",
       "9  [[0.186643, -0.06458, 0.055436, -0.164874, -0.067108, -0.092796, -0.080163, -0.036678, 0.176424,...  "
      ]
     },
     "execution_count": 10,
     "metadata": {},
     "output_type": "execute_result"
    }
   ],
   "source": [
    "dfSnoWork.head(10)"
   ]
  },
  {
   "cell_type": "markdown",
   "metadata": {},
   "source": [
    "### 5.2.2. Creación modelo final Vectorizado, Opción 3: Modelo Wikipedia."
   ]
  },
  {
   "cell_type": "code",
   "execution_count": 19,
   "metadata": {
    "collapsed": true
   },
   "outputs": [],
   "source": [
    "# Creacion Modelo Opcion 03:\n",
    "dfSnomedWork['vecSnom']=dfSnomedWork.apply(creaVecSnomedOpci3, axis=1)"
   ]
  },
  {
   "cell_type": "code",
   "execution_count": 18,
   "metadata": {},
   "outputs": [
    {
     "data": {
      "text/html": [
       "<div>\n",
       "<style>\n",
       "    .dataframe thead tr:only-child th {\n",
       "        text-align: right;\n",
       "    }\n",
       "\n",
       "    .dataframe thead th {\n",
       "        text-align: left;\n",
       "    }\n",
       "\n",
       "    .dataframe tbody tr th {\n",
       "        vertical-align: top;\n",
       "    }\n",
       "</style>\n",
       "<table border=\"1\" class=\"dataframe\">\n",
       "  <thead>\n",
       "    <tr style=\"text-align: right;\">\n",
       "      <th></th>\n",
       "      <th>idConcept</th>\n",
       "      <th>Term</th>\n",
       "      <th>corpus</th>\n",
       "      <th>vecSnom</th>\n",
       "    </tr>\n",
       "  </thead>\n",
       "  <tbody>\n",
       "    <tr>\n",
       "      <th>0</th>\n",
       "      <td>102002</td>\n",
       "      <td>hemoglobina Okaloosa</td>\n",
       "      <td>[hemoglobina, Okaloosa]</td>\n",
       "      <td>[-0.573977, -0.34192, -0.704767, -0.253131, 0.195316, -0.335175, 0.175234, 0.386643, 0.920162, -...</td>\n",
       "    </tr>\n",
       "    <tr>\n",
       "      <th>1</th>\n",
       "      <td>102002</td>\n",
       "      <td>Hb 48 (CD7), Leu - arg</td>\n",
       "      <td>[Hb, 48, CD7, Leu, arg]</td>\n",
       "      <td>[0.050742, -0.16843, -0.330733, -0.561051, -0.125784, -0.368998, 0.00823702, 0.265023, 0.299335,...</td>\n",
       "    </tr>\n",
       "    <tr>\n",
       "      <th>2</th>\n",
       "      <td>103007</td>\n",
       "      <td>virus del fibroma de las ardillas</td>\n",
       "      <td>[virus, del, fibroma, de, las, ardillas]</td>\n",
       "      <td>[-0.456331, -0.243364, -1.54545, -0.235181, 0.104182, -0.993441, 0.285053, 0.745215, 1.10138, -0...</td>\n",
       "    </tr>\n",
       "    <tr>\n",
       "      <th>3</th>\n",
       "      <td>104001</td>\n",
       "      <td>escisión de una lesión en la rótula</td>\n",
       "      <td>[escisión, de, una, lesión, en, la, rótula]</td>\n",
       "      <td>[-0.327545, -0.159125, -0.953058, -0.410016, 0.268365, -0.940003, 0.466508, 0.995458, 0.888104, ...</td>\n",
       "    </tr>\n",
       "    <tr>\n",
       "      <th>4</th>\n",
       "      <td>104001</td>\n",
       "      <td>escisión local de una lesión o de tejido de la rótula</td>\n",
       "      <td>[escisión, local, de, una, lesión, o, de, tejido, de, la, rótula]</td>\n",
       "      <td>[-0.78032, -0.45486, -1.63683, -0.442614, 0.185314, -1.32256, 0.330236, 1.52869, 1.71968, 0.0439...</td>\n",
       "    </tr>\n",
       "  </tbody>\n",
       "</table>\n",
       "</div>"
      ],
      "text/plain": [
       "  idConcept                                                   Term  \\\n",
       "0    102002                                   hemoglobina Okaloosa   \n",
       "1    102002                                 Hb 48 (CD7), Leu - arg   \n",
       "2    103007                      virus del fibroma de las ardillas   \n",
       "3    104001                    escisión de una lesión en la rótula   \n",
       "4    104001  escisión local de una lesión o de tejido de la rótula   \n",
       "\n",
       "                                                              corpus  \\\n",
       "0                                            [hemoglobina, Okaloosa]   \n",
       "1                                            [Hb, 48, CD7, Leu, arg]   \n",
       "2                           [virus, del, fibroma, de, las, ardillas]   \n",
       "3                        [escisión, de, una, lesión, en, la, rótula]   \n",
       "4  [escisión, local, de, una, lesión, o, de, tejido, de, la, rótula]   \n",
       "\n",
       "                                                                                               vecSnom  \n",
       "0  [-0.573977, -0.34192, -0.704767, -0.253131, 0.195316, -0.335175, 0.175234, 0.386643, 0.920162, -...  \n",
       "1  [0.050742, -0.16843, -0.330733, -0.561051, -0.125784, -0.368998, 0.00823702, 0.265023, 0.299335,...  \n",
       "2  [-0.456331, -0.243364, -1.54545, -0.235181, 0.104182, -0.993441, 0.285053, 0.745215, 1.10138, -0...  \n",
       "3  [-0.327545, -0.159125, -0.953058, -0.410016, 0.268365, -0.940003, 0.466508, 0.995458, 0.888104, ...  \n",
       "4  [-0.78032, -0.45486, -1.63683, -0.442614, 0.185314, -1.32256, 0.330236, 1.52869, 1.71968, 0.0439...  "
      ]
     },
     "execution_count": 18,
     "metadata": {},
     "output_type": "execute_result"
    }
   ],
   "source": [
    "# Convertir los datos cargados en listas de texto, despues de cargar los datos para el corpus.\n",
    "from ast import literal_eval\n",
    "dfSnomedWork['corpus'] = dfSnomedWork['corpus'].apply(literal_eval)\n",
    "dfSnomedWork.head()"
   ]
  },
  {
   "cell_type": "code",
   "execution_count": 8,
   "metadata": {},
   "outputs": [
    {
     "data": {
      "text/html": [
       "<div>\n",
       "<style>\n",
       "    .dataframe thead tr:only-child th {\n",
       "        text-align: right;\n",
       "    }\n",
       "\n",
       "    .dataframe thead th {\n",
       "        text-align: left;\n",
       "    }\n",
       "\n",
       "    .dataframe tbody tr th {\n",
       "        vertical-align: top;\n",
       "    }\n",
       "</style>\n",
       "<table border=\"1\" class=\"dataframe\">\n",
       "  <thead>\n",
       "    <tr style=\"text-align: right;\">\n",
       "      <th></th>\n",
       "      <th>idConcept</th>\n",
       "      <th>corpusTerm</th>\n",
       "      <th>jerarquia</th>\n",
       "    </tr>\n",
       "  </thead>\n",
       "  <tbody>\n",
       "    <tr>\n",
       "      <th>0</th>\n",
       "      <td>102002</td>\n",
       "      <td>[hemoglobina, okaloosa]</td>\n",
       "      <td>Sustancia</td>\n",
       "    </tr>\n",
       "    <tr>\n",
       "      <th>1</th>\n",
       "      <td>102002</td>\n",
       "      <td>[hb, 48, cd7, leu, arg]</td>\n",
       "      <td>Sustancia</td>\n",
       "    </tr>\n",
       "    <tr>\n",
       "      <th>2</th>\n",
       "      <td>103007</td>\n",
       "      <td>[virus, fibroma, ardillas]</td>\n",
       "      <td>Organismo</td>\n",
       "    </tr>\n",
       "    <tr>\n",
       "      <th>3</th>\n",
       "      <td>104001</td>\n",
       "      <td>[escision, lesion, rotula]</td>\n",
       "      <td>Procedimiento</td>\n",
       "    </tr>\n",
       "    <tr>\n",
       "      <th>4</th>\n",
       "      <td>104001</td>\n",
       "      <td>[escision, local, lesion, o, tejido, rotula]</td>\n",
       "      <td>Procedimiento</td>\n",
       "    </tr>\n",
       "  </tbody>\n",
       "</table>\n",
       "</div>"
      ],
      "text/plain": [
       "  idConcept                                    corpusTerm      jerarquia\n",
       "0    102002                       [hemoglobina, okaloosa]      Sustancia\n",
       "1    102002                       [hb, 48, cd7, leu, arg]      Sustancia\n",
       "2    103007                    [virus, fibroma, ardillas]      Organismo\n",
       "3    104001                    [escision, lesion, rotula]  Procedimiento\n",
       "4    104001  [escision, local, lesion, o, tejido, rotula]  Procedimiento"
      ]
     },
     "execution_count": 8,
     "metadata": {},
     "output_type": "execute_result"
    }
   ],
   "source": [
    "dfSnoWork.head()"
   ]
  },
  {
   "cell_type": "markdown",
   "metadata": {},
   "source": [
    "### 5.2.3. Creación modelo final Vectorizado, Opción 4: Modelo Total (InfAlta + Snomed-CT)"
   ]
  },
  {
   "cell_type": "code",
   "execution_count": 13,
   "metadata": {
    "collapsed": true
   },
   "outputs": [],
   "source": [
    "# Creacion Modelo Opcion 04:\n",
    "dfSnoWork['vecSnom']=dfSnoWork.apply(creaVecSnomedOpci4, axis=1)"
   ]
  },
  {
   "cell_type": "code",
   "execution_count": 16,
   "metadata": {},
   "outputs": [
    {
     "data": {
      "text/html": [
       "<div>\n",
       "<style>\n",
       "    .dataframe thead tr:only-child th {\n",
       "        text-align: right;\n",
       "    }\n",
       "\n",
       "    .dataframe thead th {\n",
       "        text-align: left;\n",
       "    }\n",
       "\n",
       "    .dataframe tbody tr th {\n",
       "        vertical-align: top;\n",
       "    }\n",
       "</style>\n",
       "<table border=\"1\" class=\"dataframe\">\n",
       "  <thead>\n",
       "    <tr style=\"text-align: right;\">\n",
       "      <th></th>\n",
       "      <th>idConcept</th>\n",
       "      <th>corpusTerm</th>\n",
       "      <th>jerarquia</th>\n",
       "      <th>vecSnom</th>\n",
       "    </tr>\n",
       "  </thead>\n",
       "  <tbody>\n",
       "    <tr>\n",
       "      <th>0</th>\n",
       "      <td>102002</td>\n",
       "      <td>[hemoglobina, okaloosa]</td>\n",
       "      <td>Sustancia</td>\n",
       "      <td>[[-0.660218, 0.112245, 0.067039, 0.441094, -0.50456, -0.724666, -0.107986, 0.313558, 0.198024, 1...</td>\n",
       "    </tr>\n",
       "    <tr>\n",
       "      <th>1</th>\n",
       "      <td>102002</td>\n",
       "      <td>[hb, 48, cd7, leu, arg]</td>\n",
       "      <td>Sustancia</td>\n",
       "      <td>[[-0.317944, 1.87942, 1.76004, 1.72051, 0.75724, -1.13105, -0.499457, -1.84984, -0.570444, -0.63...</td>\n",
       "    </tr>\n",
       "    <tr>\n",
       "      <th>2</th>\n",
       "      <td>103007</td>\n",
       "      <td>[virus, fibroma, ardillas]</td>\n",
       "      <td>Organismo</td>\n",
       "      <td>[[-0.14364, -0.006139, 0.080456, 0.936581, -1.16385, -0.552844, 0.081489, -0.584596, -0.185695, ...</td>\n",
       "    </tr>\n",
       "    <tr>\n",
       "      <th>3</th>\n",
       "      <td>104001</td>\n",
       "      <td>[escision, lesion, rotula]</td>\n",
       "      <td>Procedimiento</td>\n",
       "      <td>[[-1.0588, -0.371483, -1.84789, 1.65618, -0.235278, 0.101576, -1.08105, 0.863104, -0.374193, 1.0...</td>\n",
       "    </tr>\n",
       "    <tr>\n",
       "      <th>4</th>\n",
       "      <td>104001</td>\n",
       "      <td>[escision, local, lesion, o, tejido, rotula]</td>\n",
       "      <td>Procedimiento</td>\n",
       "      <td>[[-0.178396, -0.865999, -2.62099, 3.59125, -1.68036, -0.115811, -1.95361, 0.583631, -1.50294, 1....</td>\n",
       "    </tr>\n",
       "  </tbody>\n",
       "</table>\n",
       "</div>"
      ],
      "text/plain": [
       "  idConcept                                    corpusTerm      jerarquia  \\\n",
       "0    102002                       [hemoglobina, okaloosa]      Sustancia   \n",
       "1    102002                       [hb, 48, cd7, leu, arg]      Sustancia   \n",
       "2    103007                    [virus, fibroma, ardillas]      Organismo   \n",
       "3    104001                    [escision, lesion, rotula]  Procedimiento   \n",
       "4    104001  [escision, local, lesion, o, tejido, rotula]  Procedimiento   \n",
       "\n",
       "                                                                                               vecSnom  \n",
       "0  [[-0.660218, 0.112245, 0.067039, 0.441094, -0.50456, -0.724666, -0.107986, 0.313558, 0.198024, 1...  \n",
       "1  [[-0.317944, 1.87942, 1.76004, 1.72051, 0.75724, -1.13105, -0.499457, -1.84984, -0.570444, -0.63...  \n",
       "2  [[-0.14364, -0.006139, 0.080456, 0.936581, -1.16385, -0.552844, 0.081489, -0.584596, -0.185695, ...  \n",
       "3  [[-1.0588, -0.371483, -1.84789, 1.65618, -0.235278, 0.101576, -1.08105, 0.863104, -0.374193, 1.0...  \n",
       "4  [[-0.178396, -0.865999, -2.62099, 3.59125, -1.68036, -0.115811, -1.95361, 0.583631, -1.50294, 1....  "
      ]
     },
     "execution_count": 16,
     "metadata": {},
     "output_type": "execute_result"
    }
   ],
   "source": [
    "dfSnoWork.head()"
   ]
  },
  {
   "cell_type": "code",
   "execution_count": 15,
   "metadata": {},
   "outputs": [
    {
     "data": {
      "text/html": [
       "<div>\n",
       "<style>\n",
       "    .dataframe thead tr:only-child th {\n",
       "        text-align: right;\n",
       "    }\n",
       "\n",
       "    .dataframe thead th {\n",
       "        text-align: left;\n",
       "    }\n",
       "\n",
       "    .dataframe tbody tr th {\n",
       "        vertical-align: top;\n",
       "    }\n",
       "</style>\n",
       "<table border=\"1\" class=\"dataframe\">\n",
       "  <thead>\n",
       "    <tr style=\"text-align: right;\">\n",
       "      <th></th>\n",
       "      <th>idConcept</th>\n",
       "      <th>corpusTerm</th>\n",
       "      <th>jerarquia</th>\n",
       "      <th>vecSnom</th>\n",
       "    </tr>\n",
       "  </thead>\n",
       "  <tbody>\n",
       "  </tbody>\n",
       "</table>\n",
       "</div>"
      ],
      "text/plain": [
       "Empty DataFrame\n",
       "Columns: [idConcept, corpusTerm, jerarquia, vecSnom]\n",
       "Index: []"
      ]
     },
     "execution_count": 15,
     "metadata": {},
     "output_type": "execute_result"
    }
   ],
   "source": [
    "dfSnoWork[dfSnoWork['corpusTerm']=='infarto']"
   ]
  },
  {
   "cell_type": "code",
   "execution_count": 25,
   "metadata": {},
   "outputs": [
    {
     "data": {
      "text/html": [
       "<div>\n",
       "<style>\n",
       "    .dataframe thead tr:only-child th {\n",
       "        text-align: right;\n",
       "    }\n",
       "\n",
       "    .dataframe thead th {\n",
       "        text-align: left;\n",
       "    }\n",
       "\n",
       "    .dataframe tbody tr th {\n",
       "        vertical-align: top;\n",
       "    }\n",
       "</style>\n",
       "<table border=\"1\" class=\"dataframe\">\n",
       "  <thead>\n",
       "    <tr style=\"text-align: right;\">\n",
       "      <th></th>\n",
       "      <th>idConcept</th>\n",
       "      <th>Term</th>\n",
       "      <th>corpus</th>\n",
       "      <th>vecSnom</th>\n",
       "    </tr>\n",
       "  </thead>\n",
       "  <tbody>\n",
       "    <tr>\n",
       "      <th>81776</th>\n",
       "      <td>55641003</td>\n",
       "      <td>infarto</td>\n",
       "      <td>[infarto]</td>\n",
       "      <td>[-0.007802, -0.032055, 0.055065, -0.021404, 0.037289, 0.013248, 0.005701, -0.003707, -0.02746, -...</td>\n",
       "    </tr>\n",
       "  </tbody>\n",
       "</table>\n",
       "</div>"
      ],
      "text/plain": [
       "      idConcept     Term     corpus  \\\n",
       "81776  55641003  infarto  [infarto]   \n",
       "\n",
       "                                                                                                   vecSnom  \n",
       "81776  [-0.007802, -0.032055, 0.055065, -0.021404, 0.037289, 0.013248, 0.005701, -0.003707, -0.02746, -...  "
      ]
     },
     "execution_count": 25,
     "metadata": {},
     "output_type": "execute_result"
    }
   ],
   "source": [
    "dfSnomedWork[dfSnomedWork['Term']=='infarto']"
   ]
  },
  {
   "cell_type": "code",
   "execution_count": null,
   "metadata": {
    "collapsed": true
   },
   "outputs": [],
   "source": [
    "w2v_wikiCBoW.word_vec('infarto')"
   ]
  },
  {
   "cell_type": "markdown",
   "metadata": {},
   "source": [
    "** 5.2.1.1. Hacer unas adptaciones, para crear correctamente la columna vecSnom -> numpy.array(300,)**"
   ]
  },
  {
   "cell_type": "code",
   "execution_count": 17,
   "metadata": {
    "collapsed": true
   },
   "outputs": [],
   "source": [
    "def cambiaNumpy(row):\n",
    "    vocab = row[0]\n",
    "    #print(vocab)\n",
    "    voc = np.array(vocab, dtype=REAL)\n",
    "    return voc"
   ]
  },
  {
   "cell_type": "code",
   "execution_count": 22,
   "metadata": {
    "collapsed": true
   },
   "outputs": [],
   "source": [
    "# Opcion 3. Actualizr vecSnom column\n",
    "dfSnomedWork['vecSnom'] = dfSnomedWork['vecSnom'].apply(cambiaNumpy)"
   ]
  },
  {
   "cell_type": "code",
   "execution_count": 18,
   "metadata": {
    "collapsed": true
   },
   "outputs": [],
   "source": [
    "# Opcion 4. Actualizr vecSnom column\n",
    "dfSnoWork['vecSnom'] = dfSnoWork['vecSnom'].apply(cambiaNumpy)"
   ]
  },
  {
   "cell_type": "code",
   "execution_count": 19,
   "metadata": {},
   "outputs": [
    {
     "data": {
      "text/html": [
       "<div>\n",
       "<style>\n",
       "    .dataframe thead tr:only-child th {\n",
       "        text-align: right;\n",
       "    }\n",
       "\n",
       "    .dataframe thead th {\n",
       "        text-align: left;\n",
       "    }\n",
       "\n",
       "    .dataframe tbody tr th {\n",
       "        vertical-align: top;\n",
       "    }\n",
       "</style>\n",
       "<table border=\"1\" class=\"dataframe\">\n",
       "  <thead>\n",
       "    <tr style=\"text-align: right;\">\n",
       "      <th></th>\n",
       "      <th>idConcept</th>\n",
       "      <th>corpusTerm</th>\n",
       "      <th>jerarquia</th>\n",
       "      <th>vecSnom</th>\n",
       "    </tr>\n",
       "  </thead>\n",
       "  <tbody>\n",
       "    <tr>\n",
       "      <th>0</th>\n",
       "      <td>102002</td>\n",
       "      <td>[hemoglobina, okaloosa]</td>\n",
       "      <td>Sustancia</td>\n",
       "      <td>[-0.660218, 0.112245, 0.067039, 0.441094, -0.50456, -0.724666, -0.107986, 0.313558, 0.198024, 1....</td>\n",
       "    </tr>\n",
       "    <tr>\n",
       "      <th>1</th>\n",
       "      <td>102002</td>\n",
       "      <td>[hb, 48, cd7, leu, arg]</td>\n",
       "      <td>Sustancia</td>\n",
       "      <td>[-0.317944, 1.87942, 1.76004, 1.72051, 0.75724, -1.13105, -0.499457, -1.84984, -0.570444, -0.630...</td>\n",
       "    </tr>\n",
       "    <tr>\n",
       "      <th>2</th>\n",
       "      <td>103007</td>\n",
       "      <td>[virus, fibroma, ardillas]</td>\n",
       "      <td>Organismo</td>\n",
       "      <td>[-0.14364, -0.006139, 0.080456, 0.936581, -1.16385, -0.552844, 0.081489, -0.584596, -0.185695, 0...</td>\n",
       "    </tr>\n",
       "    <tr>\n",
       "      <th>3</th>\n",
       "      <td>104001</td>\n",
       "      <td>[escision, lesion, rotula]</td>\n",
       "      <td>Procedimiento</td>\n",
       "      <td>[-1.0588, -0.371483, -1.84789, 1.65618, -0.235278, 0.101576, -1.08105, 0.863104, -0.374193, 1.04...</td>\n",
       "    </tr>\n",
       "    <tr>\n",
       "      <th>4</th>\n",
       "      <td>104001</td>\n",
       "      <td>[escision, local, lesion, o, tejido, rotula]</td>\n",
       "      <td>Procedimiento</td>\n",
       "      <td>[-0.178396, -0.865999, -2.62099, 3.59125, -1.68036, -0.115811, -1.95361, 0.583631, -1.50294, 1.5...</td>\n",
       "    </tr>\n",
       "  </tbody>\n",
       "</table>\n",
       "</div>"
      ],
      "text/plain": [
       "  idConcept                                    corpusTerm      jerarquia  \\\n",
       "0    102002                       [hemoglobina, okaloosa]      Sustancia   \n",
       "1    102002                       [hb, 48, cd7, leu, arg]      Sustancia   \n",
       "2    103007                    [virus, fibroma, ardillas]      Organismo   \n",
       "3    104001                    [escision, lesion, rotula]  Procedimiento   \n",
       "4    104001  [escision, local, lesion, o, tejido, rotula]  Procedimiento   \n",
       "\n",
       "                                                                                               vecSnom  \n",
       "0  [-0.660218, 0.112245, 0.067039, 0.441094, -0.50456, -0.724666, -0.107986, 0.313558, 0.198024, 1....  \n",
       "1  [-0.317944, 1.87942, 1.76004, 1.72051, 0.75724, -1.13105, -0.499457, -1.84984, -0.570444, -0.630...  \n",
       "2  [-0.14364, -0.006139, 0.080456, 0.936581, -1.16385, -0.552844, 0.081489, -0.584596, -0.185695, 0...  \n",
       "3  [-1.0588, -0.371483, -1.84789, 1.65618, -0.235278, 0.101576, -1.08105, 0.863104, -0.374193, 1.04...  \n",
       "4  [-0.178396, -0.865999, -2.62099, 3.59125, -1.68036, -0.115811, -1.95361, 0.583631, -1.50294, 1.5...  "
      ]
     },
     "execution_count": 19,
     "metadata": {},
     "output_type": "execute_result"
    }
   ],
   "source": [
    "dfSnoWork.head()"
   ]
  },
  {
   "cell_type": "code",
   "execution_count": 14,
   "metadata": {
    "collapsed": true
   },
   "outputs": [],
   "source": [
    "dfSnoWork['vecSnom'] = dfSnoWork['vecSnom'].apply(cambiaNumpy)"
   ]
  },
  {
   "cell_type": "code",
   "execution_count": 22,
   "metadata": {},
   "outputs": [
    {
     "data": {
      "text/html": [
       "<div>\n",
       "<style>\n",
       "    .dataframe thead tr:only-child th {\n",
       "        text-align: right;\n",
       "    }\n",
       "\n",
       "    .dataframe thead th {\n",
       "        text-align: left;\n",
       "    }\n",
       "\n",
       "    .dataframe tbody tr th {\n",
       "        vertical-align: top;\n",
       "    }\n",
       "</style>\n",
       "<table border=\"1\" class=\"dataframe\">\n",
       "  <thead>\n",
       "    <tr style=\"text-align: right;\">\n",
       "      <th></th>\n",
       "      <th>idConcept</th>\n",
       "      <th>corpusTerm</th>\n",
       "      <th>jerarquia</th>\n",
       "      <th>vecSnom</th>\n",
       "    </tr>\n",
       "  </thead>\n",
       "  <tbody>\n",
       "    <tr>\n",
       "      <th>0</th>\n",
       "      <td>102002</td>\n",
       "      <td>[hemoglobina, okaloosa]</td>\n",
       "      <td>Sustancia</td>\n",
       "      <td>[-0.660218, 0.112245, 0.067039, 0.441094, -0.50456, -0.724666, -0.107986, 0.313558, 0.198024, 1....</td>\n",
       "    </tr>\n",
       "    <tr>\n",
       "      <th>1</th>\n",
       "      <td>102002</td>\n",
       "      <td>[hb, 48, cd7, leu, arg]</td>\n",
       "      <td>Sustancia</td>\n",
       "      <td>[-0.317944, 1.87942, 1.76004, 1.72051, 0.75724, -1.13105, -0.499457, -1.84984, -0.570444, -0.630...</td>\n",
       "    </tr>\n",
       "    <tr>\n",
       "      <th>2</th>\n",
       "      <td>103007</td>\n",
       "      <td>[virus, fibroma, ardillas]</td>\n",
       "      <td>Organismo</td>\n",
       "      <td>[-0.14364, -0.006139, 0.080456, 0.936581, -1.16385, -0.552844, 0.081489, -0.584596, -0.185695, 0...</td>\n",
       "    </tr>\n",
       "    <tr>\n",
       "      <th>3</th>\n",
       "      <td>104001</td>\n",
       "      <td>[escision, lesion, rotula]</td>\n",
       "      <td>Procedimiento</td>\n",
       "      <td>[-1.0588, -0.371483, -1.84789, 1.65618, -0.235278, 0.101576, -1.08105, 0.863104, -0.374193, 1.04...</td>\n",
       "    </tr>\n",
       "    <tr>\n",
       "      <th>4</th>\n",
       "      <td>104001</td>\n",
       "      <td>[escision, local, lesion, o, tejido, rotula]</td>\n",
       "      <td>Procedimiento</td>\n",
       "      <td>[-0.178396, -0.865999, -2.62099, 3.59125, -1.68036, -0.115811, -1.95361, 0.583631, -1.50294, 1.5...</td>\n",
       "    </tr>\n",
       "    <tr>\n",
       "      <th>5</th>\n",
       "      <td>104001</td>\n",
       "      <td>[escision, lesion, rotula]</td>\n",
       "      <td>Procedimiento</td>\n",
       "      <td>[-1.0588, -0.371483, -1.84789, 1.65618, -0.235278, 0.101576, -1.08105, 0.863104, -0.374193, 1.04...</td>\n",
       "    </tr>\n",
       "    <tr>\n",
       "      <th>6</th>\n",
       "      <td>104001</td>\n",
       "      <td>[reseccion, lesion, rotula]</td>\n",
       "      <td>Procedimiento</td>\n",
       "      <td>[-0.982033, -0.414664, -1.92898, 1.4699, -0.133419, 0.178727, -1.12998, 0.707548, -0.191675, 0.8...</td>\n",
       "    </tr>\n",
       "    <tr>\n",
       "      <th>7</th>\n",
       "      <td>104001</td>\n",
       "      <td>[reseccion, lesion, rotula]</td>\n",
       "      <td>Procedimiento</td>\n",
       "      <td>[-0.982033, -0.414664, -1.92898, 1.4699, -0.133419, 0.178727, -1.12998, 0.707548, -0.191675, 0.8...</td>\n",
       "    </tr>\n",
       "    <tr>\n",
       "      <th>8</th>\n",
       "      <td>106004</td>\n",
       "      <td>[estructura, region, carpiana, posterior]</td>\n",
       "      <td>Estructura corporal</td>\n",
       "      <td>[1.32918, -2.10342, -0.835354, 1.25112, -1.40627, 0.163855, -0.394745, -0.163158, -1.36843, -0.0...</td>\n",
       "    </tr>\n",
       "    <tr>\n",
       "      <th>9</th>\n",
       "      <td>106004</td>\n",
       "      <td>[region, carpiana, posterior]</td>\n",
       "      <td>Estructura corporal</td>\n",
       "      <td>[0.891201, -1.78964, -1.04128, 1.19131, -0.912138, 0.298044, -0.25176, -0.086428, -1.10025, -0.3...</td>\n",
       "    </tr>\n",
       "  </tbody>\n",
       "</table>\n",
       "</div>"
      ],
      "text/plain": [
       "  idConcept                                    corpusTerm  \\\n",
       "0    102002                       [hemoglobina, okaloosa]   \n",
       "1    102002                       [hb, 48, cd7, leu, arg]   \n",
       "2    103007                    [virus, fibroma, ardillas]   \n",
       "3    104001                    [escision, lesion, rotula]   \n",
       "4    104001  [escision, local, lesion, o, tejido, rotula]   \n",
       "5    104001                    [escision, lesion, rotula]   \n",
       "6    104001                   [reseccion, lesion, rotula]   \n",
       "7    104001                   [reseccion, lesion, rotula]   \n",
       "8    106004     [estructura, region, carpiana, posterior]   \n",
       "9    106004                 [region, carpiana, posterior]   \n",
       "\n",
       "             jerarquia  \\\n",
       "0            Sustancia   \n",
       "1            Sustancia   \n",
       "2            Organismo   \n",
       "3        Procedimiento   \n",
       "4        Procedimiento   \n",
       "5        Procedimiento   \n",
       "6        Procedimiento   \n",
       "7        Procedimiento   \n",
       "8  Estructura corporal   \n",
       "9  Estructura corporal   \n",
       "\n",
       "                                                                                               vecSnom  \n",
       "0  [-0.660218, 0.112245, 0.067039, 0.441094, -0.50456, -0.724666, -0.107986, 0.313558, 0.198024, 1....  \n",
       "1  [-0.317944, 1.87942, 1.76004, 1.72051, 0.75724, -1.13105, -0.499457, -1.84984, -0.570444, -0.630...  \n",
       "2  [-0.14364, -0.006139, 0.080456, 0.936581, -1.16385, -0.552844, 0.081489, -0.584596, -0.185695, 0...  \n",
       "3  [-1.0588, -0.371483, -1.84789, 1.65618, -0.235278, 0.101576, -1.08105, 0.863104, -0.374193, 1.04...  \n",
       "4  [-0.178396, -0.865999, -2.62099, 3.59125, -1.68036, -0.115811, -1.95361, 0.583631, -1.50294, 1.5...  \n",
       "5  [-1.0588, -0.371483, -1.84789, 1.65618, -0.235278, 0.101576, -1.08105, 0.863104, -0.374193, 1.04...  \n",
       "6  [-0.982033, -0.414664, -1.92898, 1.4699, -0.133419, 0.178727, -1.12998, 0.707548, -0.191675, 0.8...  \n",
       "7  [-0.982033, -0.414664, -1.92898, 1.4699, -0.133419, 0.178727, -1.12998, 0.707548, -0.191675, 0.8...  \n",
       "8  [1.32918, -2.10342, -0.835354, 1.25112, -1.40627, 0.163855, -0.394745, -0.163158, -1.36843, -0.0...  \n",
       "9  [0.891201, -1.78964, -1.04128, 1.19131, -0.912138, 0.298044, -0.25176, -0.086428, -1.10025, -0.3...  "
      ]
     },
     "execution_count": 22,
     "metadata": {},
     "output_type": "execute_result"
    }
   ],
   "source": [
    "dfSnoWork.head(10)"
   ]
  },
  {
   "cell_type": "code",
   "execution_count": null,
   "metadata": {
    "collapsed": true
   },
   "outputs": [],
   "source": [
    "# Ejemplo para elminiar una columna en Pandas:\n",
    "SnomedWork.drop('vecSnom', axis=1, inplace=True)"
   ]
  },
  {
   "cell_type": "code",
   "execution_count": null,
   "metadata": {
    "collapsed": true
   },
   "outputs": [],
   "source": [
    "# Ejemplo de como renombrar una columan en pandas:\n",
    "SnomedWork.rename(columns={'vecSnom1': 'vecSnom'}, inplace=True)"
   ]
  },
  {
   "cell_type": "markdown",
   "metadata": {},
   "source": [
    "### 5.3. Grabamos el segundo modelo de Snomed2Vec. Modelo generado con los informes de ALta. Opcion.2:\n",
    "**Snomed2Vec-SK300-IA-Op2.txt**\n",
    "Se guarda el fichero en formato numpy. Se utiliza esta versión para almacenar correctamente los vectores:"
   ]
  },
  {
   "cell_type": "markdown",
   "metadata": {},
   "source": [
    "** 5.3.1. grabar el datarame final.**"
   ]
  },
  {
   "cell_type": "code",
   "execution_count": 16,
   "metadata": {
    "collapsed": true
   },
   "outputs": [],
   "source": [
    "# Prueba con fichero numpy. Guardar Se utiliza esta versión para almacenar correctamente los vectores:\n",
    "fich = '/Snomed-CT/Diccionario/Snomed2Vec-COBW300-Wiki-Op2.npy'\n",
    "#fich = '/Snomed-CT/Diccionario/Snomed2Vec-SK300-IA-Op2-ok.npy'\n",
    "f = p+fich\n",
    "cols=['idConcept','jerarquia','corpusTerm','vecSnom']\n",
    "num_df = dfSnoWork[cols]\n",
    "\n",
    "with open(f,'wb') as np_file:\n",
    "    np.save(np_file, num_df)"
   ]
  },
  {
   "cell_type": "markdown",
   "metadata": {},
   "source": [
    "** 5.3.2. Cargar el modelo previamente generado en formato numpy.**<br>\n",
    "fichero *Snomed2Vec-SK300-IA-Op2.npy*"
   ]
  },
  {
   "cell_type": "code",
   "execution_count": 2,
   "metadata": {
    "collapsed": true
   },
   "outputs": [],
   "source": [
    "# Prueba de Carga numpy ------------------------\n",
    "fich = '/Snomed-CT/Diccionario/Snomed2Vec-SK300-IA-Op2.npy'\n",
    "f = p+fich\n",
    "cols=['idConcept','jerarquia','corpusTerm','vecSnom']\n",
    "\n",
    "with open(f,'rb') as np_file:\n",
    "    data = np.load(np_file)\n",
    "SnomedWork = pd.DataFrame(data, columns=cols)"
   ]
  },
  {
   "cell_type": "markdown",
   "metadata": {},
   "source": [
    "** 5.3.3. grabar el datarame final - Descripciones Originales.****<br>\n",
    "fichero *Snomed2Vec-SK300-Wiki-Original-Op3.npy*"
   ]
  },
  {
   "cell_type": "code",
   "execution_count": 27,
   "metadata": {
    "collapsed": true
   },
   "outputs": [],
   "source": [
    "# Prueba con fichero numpy. Guardar Se utiliza esta versión para almacenar correctamente los vectores:\n",
    "fich = '/Snomed-CT/Diccionario/Snomed2Vec-COBW300-Wiki-Op3.npy'\n",
    "f = p+fich\n",
    "cols=['idConcept','Term','vecSnom']\n",
    "num_df = dfSnomedWork[cols]\n",
    "\n",
    "with open(f,'wb') as np_file:\n",
    "    np.save(np_file, num_df)"
   ]
  },
  {
   "cell_type": "markdown",
   "metadata": {},
   "source": [
    "** 5.3.4. grabar el datarame final - Descripciones Normalizadas.Modelo (InfAltas+Snomed-CT)**<br>\n",
    "fichero Salida: *Snomed2Vec-SK300-InfAlt-Snomed-Op4.npy*"
   ]
  },
  {
   "cell_type": "code",
   "execution_count": 24,
   "metadata": {
    "collapsed": true
   },
   "outputs": [],
   "source": [
    "# Prueba con fichero numpy. Guardar Se utiliza esta versión para almacenar correctamente los vectores:\n",
    "fich = '/Snomed-CT/Diccionario/Snomed2Vec-SK300-InfAlt-Snomed-Op4.npy'\n",
    "f = p+fich\n",
    "cols=['idConcept','jerarquia','corpusTerm','vecSnom']\n",
    "num_df = dfSnoWork[cols]\n",
    "\n",
    "with open(f,'wb') as np_file:\n",
    "    np.save(np_file, num_df)"
   ]
  },
  {
   "cell_type": "code",
   "execution_count": 23,
   "metadata": {},
   "outputs": [
    {
     "data": {
      "text/html": [
       "<div>\n",
       "<style>\n",
       "    .dataframe thead tr:only-child th {\n",
       "        text-align: right;\n",
       "    }\n",
       "\n",
       "    .dataframe thead th {\n",
       "        text-align: left;\n",
       "    }\n",
       "\n",
       "    .dataframe tbody tr th {\n",
       "        vertical-align: top;\n",
       "    }\n",
       "</style>\n",
       "<table border=\"1\" class=\"dataframe\">\n",
       "  <thead>\n",
       "    <tr style=\"text-align: right;\">\n",
       "      <th></th>\n",
       "      <th>idConcept</th>\n",
       "      <th>corpusTerm</th>\n",
       "      <th>jerarquia</th>\n",
       "      <th>vecSnom</th>\n",
       "    </tr>\n",
       "  </thead>\n",
       "  <tbody>\n",
       "    <tr>\n",
       "      <th>0</th>\n",
       "      <td>102002</td>\n",
       "      <td>[hemoglobina, okaloosa]</td>\n",
       "      <td>Sustancia</td>\n",
       "      <td>[-0.660218, 0.112245, 0.067039, 0.441094, -0.50456, -0.724666, -0.107986, 0.313558, 0.198024, 1....</td>\n",
       "    </tr>\n",
       "    <tr>\n",
       "      <th>1</th>\n",
       "      <td>102002</td>\n",
       "      <td>[hb, 48, cd7, leu, arg]</td>\n",
       "      <td>Sustancia</td>\n",
       "      <td>[-0.317944, 1.87942, 1.76004, 1.72051, 0.75724, -1.13105, -0.499457, -1.84984, -0.570444, -0.630...</td>\n",
       "    </tr>\n",
       "    <tr>\n",
       "      <th>2</th>\n",
       "      <td>103007</td>\n",
       "      <td>[virus, fibroma, ardillas]</td>\n",
       "      <td>Organismo</td>\n",
       "      <td>[-0.14364, -0.006139, 0.080456, 0.936581, -1.16385, -0.552844, 0.081489, -0.584596, -0.185695, 0...</td>\n",
       "    </tr>\n",
       "    <tr>\n",
       "      <th>3</th>\n",
       "      <td>104001</td>\n",
       "      <td>[escision, lesion, rotula]</td>\n",
       "      <td>Procedimiento</td>\n",
       "      <td>[-1.0588, -0.371483, -1.84789, 1.65618, -0.235278, 0.101576, -1.08105, 0.863104, -0.374193, 1.04...</td>\n",
       "    </tr>\n",
       "    <tr>\n",
       "      <th>4</th>\n",
       "      <td>104001</td>\n",
       "      <td>[escision, local, lesion, o, tejido, rotula]</td>\n",
       "      <td>Procedimiento</td>\n",
       "      <td>[-0.178396, -0.865999, -2.62099, 3.59125, -1.68036, -0.115811, -1.95361, 0.583631, -1.50294, 1.5...</td>\n",
       "    </tr>\n",
       "  </tbody>\n",
       "</table>\n",
       "</div>"
      ],
      "text/plain": [
       "  idConcept                                    corpusTerm      jerarquia  \\\n",
       "0    102002                       [hemoglobina, okaloosa]      Sustancia   \n",
       "1    102002                       [hb, 48, cd7, leu, arg]      Sustancia   \n",
       "2    103007                    [virus, fibroma, ardillas]      Organismo   \n",
       "3    104001                    [escision, lesion, rotula]  Procedimiento   \n",
       "4    104001  [escision, local, lesion, o, tejido, rotula]  Procedimiento   \n",
       "\n",
       "                                                                                               vecSnom  \n",
       "0  [-0.660218, 0.112245, 0.067039, 0.441094, -0.50456, -0.724666, -0.107986, 0.313558, 0.198024, 1....  \n",
       "1  [-0.317944, 1.87942, 1.76004, 1.72051, 0.75724, -1.13105, -0.499457, -1.84984, -0.570444, -0.630...  \n",
       "2  [-0.14364, -0.006139, 0.080456, 0.936581, -1.16385, -0.552844, 0.081489, -0.584596, -0.185695, 0...  \n",
       "3  [-1.0588, -0.371483, -1.84789, 1.65618, -0.235278, 0.101576, -1.08105, 0.863104, -0.374193, 1.04...  \n",
       "4  [-0.178396, -0.865999, -2.62099, 3.59125, -1.68036, -0.115811, -1.95361, 0.583631, -1.50294, 1.5...  "
      ]
     },
     "execution_count": 23,
     "metadata": {},
     "output_type": "execute_result"
    }
   ],
   "source": [
    "# Comprobacion del dataframe:\n",
    "dfSnoWork.head()"
   ]
  },
  {
   "cell_type": "markdown",
   "metadata": {},
   "source": [
    "### Proceso temporal para añadirle al Jerarquia, del otro DataFrame:"
   ]
  },
  {
   "cell_type": "code",
   "execution_count": null,
   "metadata": {
    "collapsed": true
   },
   "outputs": [],
   "source": [
    "# Carga de Datos para el Trabajo final:\n",
    "fich = '/Snomed-CT/Diccionario/Snomed2vec-Jer-work.txt'\n",
    "f = p+fich\n",
    "\n",
    "dfSno = pd.read_csv(f, sep='|', encoding='utf_8', header=0, dtype='object').fillna('')"
   ]
  },
  {
   "cell_type": "code",
   "execution_count": null,
   "metadata": {
    "collapsed": true
   },
   "outputs": [],
   "source": [
    "dfSno.head()"
   ]
  },
  {
   "cell_type": "code",
   "execution_count": null,
   "metadata": {
    "collapsed": true
   },
   "outputs": [],
   "source": [
    "cols=['idConcept','jerarquia']\n",
    "dfSnoFinal = pd.merge(dfSno[cols], SnomedWork, on='idConcept')"
   ]
  },
  {
   "cell_type": "code",
   "execution_count": null,
   "metadata": {
    "collapsed": true
   },
   "outputs": [],
   "source": [
    "dfSnoFinal.tail()"
   ]
  },
  {
   "cell_type": "code",
   "execution_count": null,
   "metadata": {
    "collapsed": true
   },
   "outputs": [],
   "source": [
    "# Creación de una columan nueva con el idConcepto+Terminos+Jerarquia\n",
    "def unir(row):\n",
    "    strTerm = ' '.join(row.corpusTerm)\n",
    "    buff = row.idConcept + '|' + strTerm + '|' + row.jerarquia\n",
    "    return buff"
   ]
  },
  {
   "cell_type": "code",
   "execution_count": null,
   "metadata": {
    "collapsed": true
   },
   "outputs": [],
   "source": [
    "# Creación de una columan nueva con el idConcepto+Terminos+Jerarquia\n",
    "def unir2(row):\n",
    "    #strTerm = ' '.join(row.Term)\n",
    "    buff = row.idConcept + '|' + row.Term\n",
    "    return buff"
   ]
  },
  {
   "cell_type": "code",
   "execution_count": null,
   "metadata": {
    "collapsed": true
   },
   "outputs": [],
   "source": [
    "# Creación de una columan nueva con el idConcepto+Terminos+Jerarquia\n",
    "def unir3(row):\n",
    "    strTerm = ' '.join(row.corpusTerm)\n",
    "    buff = row.idConcept + '|' + strTerm+'| '+row.jerarquia\n",
    "    return buff"
   ]
  },
  {
   "cell_type": "code",
   "execution_count": null,
   "metadata": {
    "collapsed": true
   },
   "outputs": [],
   "source": [
    "#SnomedWork['concept'] = SnomedWork[['idConcept', 'corpusTerm','jerarquia']].apply(unir, axis=1)\n",
    "#SnomedWork['concept'] = SnomedWork[['idConcept','Term']].apply(unir2, axis=1)\n",
    "SnomedWork['concept'] = SnomedWork[['idConcept','jerarquia','corpusTerm']].apply(unir3, axis=1)"
   ]
  },
  {
   "cell_type": "code",
   "execution_count": null,
   "metadata": {
    "collapsed": true
   },
   "outputs": [],
   "source": [
    "print('Comprobacion de tamaño Modelo Espacio Vectorial (1)- 516211 - %d' % len(SnomedWork))"
   ]
  },
  {
   "cell_type": "code",
   "execution_count": null,
   "metadata": {
    "collapsed": true
   },
   "outputs": [],
   "source": []
  },
  {
   "cell_type": "code",
   "execution_count": null,
   "metadata": {
    "collapsed": true
   },
   "outputs": [],
   "source": []
  },
  {
   "cell_type": "code",
   "execution_count": null,
   "metadata": {
    "collapsed": true
   },
   "outputs": [],
   "source": []
  },
  {
   "cell_type": "markdown",
   "metadata": {},
   "source": [
    "## 6. Métodos Snomed2Vec.Most_similar() y Snomed2Vec.Similarity."
   ]
  },
  {
   "cell_type": "markdown",
   "metadata": {},
   "source": [
    "### 6.1 Pruebas del método Snomed2vec.Most_similar():\n",
    "Implementacion método Most_Similar para Snomed2Vec. Basado en la implementación de gensim Word2Vec."
   ]
  },
  {
   "cell_type": "code",
   "execution_count": null,
   "metadata": {
    "collapsed": true
   },
   "outputs": [],
   "source": [
    "def init_sims(self, replace=False):\n",
    "        \"\"\"\n",
    "        Precompute L2-normalized vectors.\n",
    "        If `replace` is set, forget the original vectors and only keep the normalized\n",
    "        ones = saves lots of memory!\n",
    "        Note that you **cannot continue training** after doing a replace. The model becomes\n",
    "        effectively read-only = you can call `most_similar`, `similarity` etc., but not `train`.\n",
    "        \"\"\"\n",
    "        if getattr(self, 'syn0norm', None) is None or replace:\n",
    "            logger.info(\"precomputing L2-norms of word weight vectors\")\n",
    "            if replace:\n",
    "                for i in xrange(w2v_InfAltaSK.syn0.shape[0]):\n",
    "                    w2v_InfAltaSK.syn0[i, :] /= sqrt((w2v_InfAltaSK.syn0[i, :] ** 2).sum(-1))\n",
    "                w2v_InfAltaSK.syn0norm = w2v_InfAltaSK.syn0\n",
    "            else:\n",
    "                w2v_InfAltaSK.syn0norm = (w2v_InfAltaSK.syn0 / sqrt((w2v_InfAltaSK.syn0 ** 2).sum(-1))[..., newaxis]).astype(REAL)"
   ]
  },
  {
   "cell_type": "code",
   "execution_count": null,
   "metadata": {
    "collapsed": true
   },
   "outputs": [],
   "source": [
    "self.vocab = {}  # mapping from a word (string) to a Vocab object\n",
    "self.index2word = []  # map from a word's matrix index (int) to word (string)\n",
    "\n",
    "self.vocab[word].index\n",
    "syn0norm[self.vocab[word].index]"
   ]
  },
  {
   "cell_type": "code",
   "execution_count": null,
   "metadata": {
    "collapsed": true
   },
   "outputs": [],
   "source": [
    "w2v_InfAltaSK.vocab"
   ]
  },
  {
   "cell_type": "code",
   "execution_count": 11,
   "metadata": {},
   "outputs": [
    {
     "data": {
      "text/plain": [
       "98103"
      ]
     },
     "execution_count": 11,
     "metadata": {},
     "output_type": "execute_result"
    }
   ],
   "source": [
    "len(w2v_InfAltaSK.index2word)"
   ]
  },
  {
   "cell_type": "code",
   "execution_count": 14,
   "metadata": {},
   "outputs": [
    {
     "data": {
      "text/plain": [
       "4578"
      ]
     },
     "execution_count": 14,
     "metadata": {},
     "output_type": "execute_result"
    }
   ],
   "source": [
    "w2v_InfAltaSK.index2word.index('infarto')"
   ]
  },
  {
   "cell_type": "code",
   "execution_count": 15,
   "metadata": {},
   "outputs": [
    {
     "data": {
      "text/plain": [
       "4578"
      ]
     },
     "execution_count": 15,
     "metadata": {},
     "output_type": "execute_result"
    }
   ],
   "source": [
    "word='infarto'\n",
    "w2v_InfAltaSK.vocab[word].index"
   ]
  },
  {
   "cell_type": "code",
   "execution_count": 20,
   "metadata": {
    "collapsed": true
   },
   "outputs": [],
   "source": [
    "w2v_InfAltaSK.syn0norm"
   ]
  },
  {
   "cell_type": "code",
   "execution_count": null,
   "metadata": {
    "collapsed": true
   },
   "outputs": [],
   "source": [
    "word='infarto'\n",
    "w2v_InfAltaSK.syn0norm[w2v_InfAltaSK.vocab[word].index]"
   ]
  },
  {
   "cell_type": "code",
   "execution_count": 26,
   "metadata": {},
   "outputs": [
    {
     "name": "stdout",
     "output_type": "stream",
     "text": [
      "[('infarto', 1.0)]\n"
     ]
    }
   ],
   "source": [
    "word='infarto'\n",
    "positive=[word]\n",
    "positive = [(word, 1.0) if isinstance(word, string_types + (ndarray,)) else word for word in positive]\n",
    "print(positive)"
   ]
  },
  {
   "cell_type": "code",
   "execution_count": 27,
   "metadata": {
    "collapsed": true
   },
   "outputs": [],
   "source": [
    "all_words, mean = set(), []"
   ]
  },
  {
   "cell_type": "code",
   "execution_count": null,
   "metadata": {
    "collapsed": true
   },
   "outputs": [],
   "source": [
    "for word, weight in positive:\n",
    "    if isinstance(word, ndarray):\n",
    "        mean.append(weight * word)\n",
    "    elif word in w2v_InfAltaSK.vocab:\n",
    "        mean.append(weight * w2v_InfAltaSK.syn0norm[w2v_InfAltaSK.vocab[word].index])\n",
    "        all_words.add(w2v_InfAltaSK.vocab[word].index)\n",
    "    else:\n",
    "        raise KeyError(\"word '%s' not in vocabulary\" % word)\n",
    "    if not mean:\n",
    "        raise ValueError(\"cannot compute similarity with no input\")\n",
    "    mean = matutils.unitvec(array(mean).mean(axis=0)).astype(REAL)"
   ]
  },
  {
   "cell_type": "code",
   "execution_count": null,
   "metadata": {
    "collapsed": true
   },
   "outputs": [],
   "source": [
    "if indexer is not None:\n",
    "    indexer.most_similar(mean, 10)"
   ]
  },
  {
   "cell_type": "code",
   "execution_count": null,
   "metadata": {
    "collapsed": true
   },
   "outputs": [],
   "source": []
  },
  {
   "cell_type": "code",
   "execution_count": null,
   "metadata": {
    "collapsed": true
   },
   "outputs": [],
   "source": [
    "# Version Original Word2Vec:\n",
    "\n",
    "def most_similar(self, positive=[], negative=[], topn=10, restrict_vocab=None, indexer=None):\n",
    "\n",
    "        self.init_sims()\n",
    "\n",
    "        if isinstance(positive, string_types) and not negative:\n",
    "            # allow calls like most_similar('dog'), as a shorthand for most_similar(['dog'])\n",
    "            positive = [positive]\n",
    "\n",
    "        # add weights for each word, if not already present; default to 1.0 for positive and -1.0 for negative words\n",
    "        positive = [\n",
    "            (word, 1.0) if isinstance(word, string_types + (ndarray,)) else word\n",
    "            for word in positive\n",
    "        ]\n",
    "        negative = [\n",
    "            (word, -1.0) if isinstance(word, string_types + (ndarray,)) else word\n",
    "            for word in negative\n",
    "        ]\n",
    "\n",
    "        # compute the weighted average of all words\n",
    "        all_words, mean = set(), []\n",
    "        for word, weight in positive + negative:\n",
    "            if isinstance(word, ndarray):\n",
    "                mean.append(weight * word)\n",
    "            elif word in self.vocab:\n",
    "                mean.append(weight * self.syn0norm[self.vocab[word].index])\n",
    "                all_words.add(self.vocab[word].index)\n",
    "            else:\n",
    "                raise KeyError(\"word '%s' not in vocabulary\" % word)\n",
    "        if not mean:\n",
    "            raise ValueError(\"cannot compute similarity with no input\")\n",
    "        mean = matutils.unitvec(array(mean).mean(axis=0)).astype(REAL)\n",
    "\n",
    "        if indexer is not None:\n",
    "            return indexer.most_similar(mean, topn)\n",
    "\n",
    "        limited = self.syn0norm if restrict_vocab is None else self.syn0norm[:restrict_vocab]\n",
    "        dists = dot(limited, mean)\n",
    "        if not topn:\n",
    "            return dists\n",
    "        best = matutils.argsort(dists, topn=topn + len(all_words), reverse=True)\n",
    "        # ignore (don't return) words from the input\n",
    "        result = [(self.index2word[sim], float(dists[sim])) for sim in best if sim not in all_words]\n",
    "        return result[:topn]"
   ]
  },
  {
   "cell_type": "code",
   "execution_count": null,
   "metadata": {
    "collapsed": true
   },
   "outputs": [],
   "source": [
    "# Funcion similitud Distancia del Coseno, Parametros Vectores\n",
    "def vSimilar(wv1,wv2):\n",
    "    return np.nan_to_num((round(float(np.dot(wv1, wv2)/(np.linalg.norm(wv1) * np.linalg.norm(wv2))),4)))"
   ]
  },
  {
   "cell_type": "code",
   "execution_count": null,
   "metadata": {
    "collapsed": true
   },
   "outputs": [],
   "source": []
  },
  {
   "cell_type": "code",
   "execution_count": null,
   "metadata": {
    "collapsed": true
   },
   "outputs": [],
   "source": []
  },
  {
   "cell_type": "code",
   "execution_count": null,
   "metadata": {
    "collapsed": true
   },
   "outputs": [],
   "source": []
  },
  {
   "cell_type": "markdown",
   "metadata": {},
   "source": [
    "## 7. Sistema preparacion de la generación vectores para la gestion de las querys"
   ]
  },
  {
   "cell_type": "markdown",
   "metadata": {},
   "source": [
    "### 7.1. Generación Vectores:\n",
    "Generar los vectores, según los tokens de la frase del informe y de los conceptos candidatos del Snomed-CT. Teniendo en cuenta los 1-gramas, 2-gramas, 3-gramas. siendo el vector final de una frase, la suma de los vectores de los tokens que lo componen.<br>\n",
    "**Funciones Auxiliares generadas:**\n",
    "* **ngrams(listTokens, n):**. \n",
    "    * Entrada: **listTokens**, (lista de Tokens), **n**: número de n-gramas que genera.\n",
    "    * Salida: **buffer**, Lista de n-gramas, según el valor de n, genera \n",
    "* **todosGramas(listTokens,n):**\n",
    "    * Entrada: **listTokens**, (lista de Tokens), **n**: número de n-gramas máximo que genera, 1-gram,2-gram, 3-gram.\n",
    "    * Salida: **buffer**, Lista de n-gramas, según el valor de n, genera n-gramas, desde 1-grama hasta n-gramas."
   ]
  },
  {
   "cell_type": "markdown",
   "metadata": {},
   "source": [
    "### 7.2. Generación de n-gramas según la frase compuesta de tokens."
   ]
  },
  {
   "cell_type": "code",
   "execution_count": 7,
   "metadata": {
    "collapsed": true
   },
   "outputs": [],
   "source": [
    "# Calcula los n-gramas, segun una lista de tokens, valor n\n",
    "def ngrams(listTokens, n):\n",
    "    output = []  \n",
    "    for i in range(len(listTokens)-n+1):\n",
    "        output.append(listTokens[i:i+n])\n",
    "    return output"
   ]
  },
  {
   "cell_type": "code",
   "execution_count": 8,
   "metadata": {
    "collapsed": true
   },
   "outputs": [],
   "source": [
    "# Crea todos los n-gramas de una frase según (n)\n",
    "#Salida: lista de n-gramas desde 1 hasta n\n",
    "def todosGramas(listTokens,n):\n",
    "    output=[]\n",
    "    buffer=[]\n",
    "    for i in range(n):\n",
    "        i+=1\n",
    "        output.append(ngrams(listTokens, i))\n",
    "    for i in range(n):\n",
    "        buffer+= output[i]\n",
    "    return buffer"
   ]
  },
  {
   "cell_type": "code",
   "execution_count": 9,
   "metadata": {
    "collapsed": true
   },
   "outputs": [],
   "source": [
    "# Entrada: Lista de gramas ['1-grama','2-grama',['3-grama','4-grama]]\n",
    "from nltk.util import skipgrams\n",
    "\n",
    "def skipgramas(frase,n,k):\n",
    "    return(skipgrams(sent, n, k))"
   ]
  },
  {
   "cell_type": "markdown",
   "metadata": {},
   "source": [
    "### 7.4. Crear Vector para cada token de la frase.\n",
    "Generación de los vectores de los tokens de cada frase.<br>\n",
    "* Funcion **creaVector(frase, size)**, genera un vector por cada token de la frase.\n",
    "    * Entrada: lista de tokens de la **frase** y **size**, tamaño del vector generado según modelo W2V (300 o 100)\n",
    "    * Salida: lista con los vectores de cada token, de la frase\n",
    "\n",
    "* Funcion: **vectorTotal(listGramas, size)**\n",
    "    * Entrada: **listGramas**, lista de n-gramas generados, **size**, tamaño del vector, según modelo W2V.\n",
    "    * Salida: Vectores asociados a cada frase, si es 1-grama -> Salida Vector(token).<br>\n",
    "      Si la frase tiene **n** gramas -> Salida $$(V[p]=v[tk_{1}]+v[tk_{2}]+...+v[tk_{n}])$$"
   ]
  },
  {
   "cell_type": "markdown",
   "metadata": {},
   "source": [
    "### 7.5. Crear los vectores para todos los ngramas generados:"
   ]
  },
  {
   "cell_type": "code",
   "execution_count": 71,
   "metadata": {
    "collapsed": true
   },
   "outputs": [],
   "source": [
    "# Entrada: lista de Frase, con ngramas en sublistas\n",
    "# Ejemplo: todosGramas(textP13,3) \n",
    "# Entrada: ['fiebre','gripe','tos']\n",
    "# Salida: [['fiebre'],['gripe'],['tos'],['fiebre', 'gripe'], ['gripe', 'tos'],['fiebre', 'gripe', 'tos']]\n",
    "\n",
    "def vectorTotal(lstgrams,size):\n",
    "    output=[]\n",
    "    for item in lstgrams:\n",
    "        buffer=np.zeros((size,), dtype=np.float32)\n",
    "        for w in item:\n",
    "            try:\n",
    "                buffer = buffer + w2v_InfAltaSK.word_vec(w)\n",
    "            except:\n",
    "                # Si el token no está en el vocabulario del Modelo, se descarta todos los ngramas\n",
    "                buffer = buffer + np.zeros((size,), dtype=np.float32)\n",
    "                #break\n",
    "        output.append((item, buffer))\n",
    "    return output"
   ]
  },
  {
   "cell_type": "markdown",
   "metadata": {},
   "source": [
    "### 6.5. Crear los vectores asociados para las descripciones de los conceptos de Snomed-CT.\n",
    "Tenemos dos opciones:\n",
    "1. Según el subconjunto seleccionado de los conceptos,con algún token de la frase del informe, nombrado en la descripción del concepto y sus sinónimos.\n",
    "1. Generar el Corpus final, con los vectores de todos los sinónimos de Snomed-CT. para realizar luego lso cálculos mas rápido."
   ]
  },
  {
   "cell_type": "markdown",
   "metadata": {},
   "source": [
    "### 6.6. **Cáculo del Vector** de los sinónimos de Snomed-CT de los **Conceptos candidatos:**\n",
    "\n",
    "Función: **vsynSnomed(candidatos, sizeVector):**\n",
    "   * Entrada: **candidatos**, lista con los conceptos candidatos de Snomed-CT, **sizeVector** Tamaño W2V size.\n",
    "   * Salida: El vector asociado para cada descripción de Snomed-CT, según el concepto."
   ]
  },
  {
   "cell_type": "code",
   "execution_count": 11,
   "metadata": {
    "collapsed": true
   },
   "outputs": [],
   "source": [
    "def vsynSnomed(candidatos, sizeVector):\n",
    "    output=[]\n",
    "    for i in range(len(candidatos)):\n",
    "        codIdSnomd = candidatos[i][0]\n",
    "        SynsSnomd=candidatos[i][2]\n",
    "        output.append((codIdSnomd,vectorTotal(SynsSnomd, sizeVector)) )\n",
    "    return output"
   ]
  },
  {
   "cell_type": "markdown",
   "metadata": {},
   "source": [
    "### 6.7. Creación vectores finales todo el Snomed-CT.\n",
    "Se genera un vector para cada descripción de cada concepto y se genera la matriz de conceptos."
   ]
  },
  {
   "cell_type": "code",
   "execution_count": null,
   "metadata": {
    "collapsed": true
   },
   "outputs": [],
   "source": [
    "def creaVecSnomed(row):\n",
    "    output=[]\n",
    "    desc=row.corpus_Syn\n",
    "    cod = row.conceptId\n",
    "    for desc_syn in range(len(desc)):\n",
    "        output.append((cod,vectorTotal(desc_syn, sizeVector)) )\n",
    "    return"
   ]
  },
  {
   "cell_type": "code",
   "execution_count": 14,
   "metadata": {},
   "outputs": [
    {
     "data": {
      "text/html": [
       "<div>\n",
       "<style>\n",
       "    .dataframe thead tr:only-child th {\n",
       "        text-align: right;\n",
       "    }\n",
       "\n",
       "    .dataframe thead th {\n",
       "        text-align: left;\n",
       "    }\n",
       "\n",
       "    .dataframe tbody tr th {\n",
       "        vertical-align: top;\n",
       "    }\n",
       "</style>\n",
       "<table border=\"1\" class=\"dataframe\">\n",
       "  <thead>\n",
       "    <tr style=\"text-align: right;\">\n",
       "      <th></th>\n",
       "      <th>conceptId</th>\n",
       "      <th>corpus_Syn</th>\n",
       "    </tr>\n",
       "  </thead>\n",
       "  <tbody>\n",
       "    <tr>\n",
       "      <th>0</th>\n",
       "      <td>100000000</td>\n",
       "      <td>[[bitter, 3]]</td>\n",
       "    </tr>\n",
       "    <tr>\n",
       "      <th>1</th>\n",
       "      <td>10000006</td>\n",
       "      <td>[[dolor, pecho, irradiado, hacia, zonas]]</td>\n",
       "    </tr>\n",
       "    <tr>\n",
       "      <th>2</th>\n",
       "      <td>1000004</td>\n",
       "      <td>[[esguince], [estrema], [lesion, articular], [torcedura], [traumatismo, articular]]</td>\n",
       "    </tr>\n",
       "    <tr>\n",
       "      <th>3</th>\n",
       "      <td>100009004</td>\n",
       "      <td>[[bloat, pac]]</td>\n",
       "    </tr>\n",
       "    <tr>\n",
       "      <th>4</th>\n",
       "      <td>10001005</td>\n",
       "      <td>[[sepsis, bacteriana], [septicemia, bacteriana]]</td>\n",
       "    </tr>\n",
       "  </tbody>\n",
       "</table>\n",
       "</div>"
      ],
      "text/plain": [
       "   conceptId  \\\n",
       "0  100000000   \n",
       "1   10000006   \n",
       "2    1000004   \n",
       "3  100009004   \n",
       "4   10001005   \n",
       "\n",
       "                                                                            corpus_Syn  \n",
       "0                                                                        [[bitter, 3]]  \n",
       "1                                            [[dolor, pecho, irradiado, hacia, zonas]]  \n",
       "2  [[esguince], [estrema], [lesion, articular], [torcedura], [traumatismo, articular]]  \n",
       "3                                                                       [[bloat, pac]]  \n",
       "4                                     [[sepsis, bacteriana], [septicemia, bacteriana]]  "
      ]
     },
     "execution_count": 14,
     "metadata": {},
     "output_type": "execute_result"
    }
   ],
   "source": [
    "cols=['conceptId','corpus_Syn']\n",
    "dfSnomedSyn[cols].head()"
   ]
  },
  {
   "cell_type": "markdown",
   "metadata": {},
   "source": [
    "** Enfoques para la estructura final de Snomed2vec:**\n",
    "* Generar estructura Matriz con una linea por cada ID (Id único), con los vectores de sus descripciones y sinónimos en misma fila.\n",
    "* Generar una linea por cada id y su descripcion. (Id's repetidos)."
   ]
  },
  {
   "cell_type": "code",
   "execution_count": 26,
   "metadata": {
    "collapsed": true
   },
   "outputs": [],
   "source": [
    "# Generar estructura Matriz con una linea por cada ID, con los vectores de sus descripciones y sinónimos \n",
    "# en misma fila.\n",
    "# ----------------------------------------------------\n",
    "# Enfoque 1:\n",
    "\n",
    "snomed2vec = []\n",
    "\n",
    "for i in range(len(dfSnomedSyn)):\n",
    "    codId = dfSnomedSyn['conceptId'].loc[i]\n",
    "    txtCorpus = dfSnomedSyn['corpus_token'].loc[i]\n",
    "    txtSyn = dfSnomedSyn['corpus_Syn'].loc[i]\n",
    "    snomed2vec.append([codId,vectorTotal(txtSyn, 300)])\n",
    "    \n",
    "print(len(snomed2vec))"
   ]
  },
  {
   "cell_type": "code",
   "execution_count": 46,
   "metadata": {},
   "outputs": [
    {
     "data": {
      "text/plain": [
       "[['esguince'],\n",
       " ['estrema'],\n",
       " ['lesion', 'articular'],\n",
       " ['torcedura'],\n",
       " ['traumatismo', 'articular']]"
      ]
     },
     "execution_count": 46,
     "metadata": {},
     "output_type": "execute_result"
    }
   ],
   "source": [
    "txtSyn = dfSnomedSyn['corpus_Syn'].loc[2]\n",
    "txtSyn"
   ]
  },
  {
   "cell_type": "code",
   "execution_count": 27,
   "metadata": {
    "collapsed": true
   },
   "outputs": [],
   "source": [
    "def vectorSnomed(lstgrams,size):\n",
    "    output=[]\n",
    "    buffer=np.zeros((size,), dtype=np.float32)\n",
    "    for item in lstgrams:\n",
    "        try:\n",
    "            buffer = buffer + w2v_InfAltaSK.word_vec(item)\n",
    "        except:\n",
    "            buffer = buffer + np.zeros((size,), dtype=np.float32)\n",
    "            #break\n",
    "    output.extend( buffer)\n",
    "    return output"
   ]
  },
  {
   "cell_type": "code",
   "execution_count": 28,
   "metadata": {},
   "outputs": [
    {
     "name": "stdout",
     "output_type": "stream",
     "text": [
      "1432986\n"
     ]
    }
   ],
   "source": [
    "# Generar una linea por cada id y su descripcion. (Id's repetidos).\n",
    "# Enfoque 2 Version 1.0:\n",
    "\n",
    "snomed2vec = []\n",
    "\n",
    "for i in range(len(dfSnomedSyn)):\n",
    "    codId = dfSnomedSyn['conceptId'].loc[i]\n",
    "    txtCorpus = dfSnomedSyn['corpus_token'].loc[i]\n",
    "    txtSyn = dfSnomedSyn['corpus_Syn'].loc[i]\n",
    "    for txt1 in txtSyn:\n",
    "        snomed2vec.extend([codId,txt1, vectorSnomed(txt1, 300)])\n",
    "        \n",
    "print(len(snomed2vec))"
   ]
  },
  {
   "cell_type": "code",
   "execution_count": 56,
   "metadata": {},
   "outputs": [
    {
     "name": "stdout",
     "output_type": "stream",
     "text": [
      "955324\n"
     ]
    }
   ],
   "source": [
    "# Generar una linea por cada id y su descripcion. (Id's repetidos).\n",
    "# Enfoque 2 Version 1.1:\n",
    "\n",
    "snomed2vec = []\n",
    "\n",
    "for i in range(len(dfSnomedSyn)):\n",
    "    codId = dfSnomedSyn['conceptId'].loc[i]\n",
    "    txtCorpus = dfSnomedSyn['corpus_token'].loc[i]\n",
    "    txtSyn = dfSnomedSyn['corpus_Syn'].loc[i]\n",
    "    for txt1 in txtSyn:\n",
    "        concept = codId+'|'+' '.join(txt1)\n",
    "        snomed2vec.extend([concept, vectorSnomed(txt1, 300)])\n",
    "        \n",
    "print(len(snomed2vec))"
   ]
  },
  {
   "cell_type": "code",
   "execution_count": 8,
   "metadata": {},
   "outputs": [
    {
     "data": {
      "text/plain": [
       "[['esguince'],\n",
       " ['estrema'],\n",
       " ['lesion', 'articular'],\n",
       " ['torcedura'],\n",
       " ['traumatismo', 'articular']]"
      ]
     },
     "execution_count": 8,
     "metadata": {},
     "output_type": "execute_result"
    }
   ],
   "source": [
    "txtSyn = dfSnomedSyn['corpus_Syn'].loc[2]\n",
    "txtSyn"
   ]
  },
  {
   "cell_type": "code",
   "execution_count": 58,
   "metadata": {},
   "outputs": [
    {
     "data": {
      "text/plain": [
       "['100000000|bitter 3',\n",
       " '10000006|dolor pecho irradiado hacia zonas',\n",
       " '1000004|esguince',\n",
       " '1000004|estrema',\n",
       " '1000004|lesion articular',\n",
       " '1000004|torcedura',\n",
       " '1000004|traumatismo articular',\n",
       " '100009004|bloat pac',\n",
       " '10001005|sepsis bacteriana']"
      ]
     },
     "execution_count": 58,
     "metadata": {},
     "output_type": "execute_result"
    }
   ],
   "source": [
    "snomed2vec[0:18:2]"
   ]
  },
  {
   "cell_type": "code",
   "execution_count": 40,
   "metadata": {},
   "outputs": [
    {
     "data": {
      "text/plain": [
       "[['bitter', '3'],\n",
       " ['dolor', 'pecho', 'irradiado', 'hacia', 'zonas'],\n",
       " ['esguince'],\n",
       " ['estrema'],\n",
       " ['lesion', 'articular'],\n",
       " ['torcedura'],\n",
       " ['traumatismo', 'articular'],\n",
       " ['bloat', 'pac']]"
      ]
     },
     "execution_count": 40,
     "metadata": {},
     "output_type": "execute_result"
    }
   ],
   "source": [
    "snomed2vec[1:24:3]"
   ]
  },
  {
   "cell_type": "code",
   "execution_count": null,
   "metadata": {
    "collapsed": true
   },
   "outputs": [],
   "source": [
    "w2v_InfAltaSK.most_similar()"
   ]
  },
  {
   "cell_type": "markdown",
   "metadata": {},
   "source": [
    "### 6.8. Convertir la lista generada un DataFrame Pandas (dfSnomed2vec):"
   ]
  },
  {
   "cell_type": "code",
   "execution_count": null,
   "metadata": {
    "collapsed": true
   },
   "outputs": [],
   "source": [
    "# Cración de un TensorTensorflow Project, para visualizar el resultado final:\n",
    "\n",
    "fich = '/Models/Snomed2vec.tsv'\n",
    "f = p + fich\n",
    "\n",
    "tensor_file = '{0}_tensor.tsv'.format(output)\n",
    "metadata_file = '{0}_metadata.tsv'.format(output)\n",
    "with open(tensor_file, 'w+') as file_vector:\n",
    "    with open(metadata_file, 'w+') as file_metadata:\n",
    "        for word in model.wv.index2word:\n",
    "            try:\n",
    "                w = model.wv.vocab[word]\n",
    "                file_metadata.write(word + '\\t' + str(w.count) + '\\n')\n",
    "                vector_row = '\\t'.join(str(x) for x in model[word])\n",
    "                file_vector.write(vector_row + '\\n')\n",
    "            except Exception:\n",
    "                logging.warning('Invalid characters in word: {0}'.format(str(word)))"
   ]
  },
  {
   "cell_type": "code",
   "execution_count": null,
   "metadata": {
    "collapsed": true
   },
   "outputs": [],
   "source": [
    "f = open ('/media/nacho/DatosHD/Doctorado/codigo/DataFinal/BagOfConcepts.txt','w')\n",
    "for elemento in BagOfConcepts:\n",
    "    f.write('%s %s\\n' % elemento)\n",
    "f.close()"
   ]
  },
  {
   "cell_type": "code",
   "execution_count": null,
   "metadata": {
    "collapsed": true
   },
   "outputs": [],
   "source": [
    "import numpy as np\n",
    "x = [['ABC', 123.45], ['DEF', 678.90]]\n",
    "np.savetxt('text.txt', x, fmt='%s')\n",
    " \n",
    "# default dtype for  np.loadtxt is also floating point, change it, to be able to load mixed data.\n",
    "y = np.loadtxt('text.txt', dtype=np.object)"
   ]
  },
  {
   "cell_type": "code",
   "execution_count": null,
   "metadata": {
    "collapsed": true
   },
   "outputs": [],
   "source": [
    "fich = '/Models/Snomed2vec.txt'\n",
    "f = p + fich\n",
    "f = open (f,'wb')\n",
    "for i in range(0, len(snomed2vec), 2):\n",
    "    buffer = snomed2vec[i]+'\\t'+snomed2vec[i+1]\n",
    "    f.write('%s \\n' % buffer)\n",
    "f.close()"
   ]
  },
  {
   "cell_type": "code",
   "execution_count": 62,
   "metadata": {
    "collapsed": true
   },
   "outputs": [],
   "source": [
    "lista_final = [0,0,0,0,0,0,0,0,0,0,0,0,0,0,0,0]\n",
    "for i in range(0, 16, 2):\n",
    "    lista_final[i] = i\n",
    "    lista_final[i+1] = i\n",
    "print(lista_final)\n",
    "\n",
    "\n",
    "#npSnomed2Vec = np.array(snomed2vec).reshape(len(snomed2vec),2)"
   ]
  },
  {
   "cell_type": "code",
   "execution_count": 61,
   "metadata": {
    "collapsed": true
   },
   "outputs": [],
   "source": [
    "#dfsnomed2vec = pd.DataFrame(np.array(snomed2vec).reshape(len(snomed2vec),2), columns = ['idConcept','vector'])"
   ]
  },
  {
   "cell_type": "code",
   "execution_count": null,
   "metadata": {
    "collapsed": true
   },
   "outputs": [],
   "source": [
    "dfsnomed2vec.head()"
   ]
  },
  {
   "cell_type": "code",
   "execution_count": 30,
   "metadata": {
    "collapsed": true
   },
   "outputs": [],
   "source": [
    "#snomed2vec[5][1]"
   ]
  },
  {
   "cell_type": "markdown",
   "metadata": {},
   "source": [
    "### 7.0 Función de Similitud. (Mtodo de la nueva clase):\n",
    "Función de Similitud, cuando se le pasa los vectores generados. Utilizando la Distancia del Coseno."
   ]
  },
  {
   "cell_type": "code",
   "execution_count": 42,
   "metadata": {
    "collapsed": true
   },
   "outputs": [],
   "source": [
    "# Funcion similitud Distancia del Coseno, Parametros Vectores\n",
    "def vSimilar(wv1,wv2):\n",
    "    return np.nan_to_num((round(float(np.dot(wv1, wv2)/(np.linalg.norm(wv1) * np.linalg.norm(wv2))),4)))"
   ]
  },
  {
   "cell_type": "code",
   "execution_count": null,
   "metadata": {
    "collapsed": true
   },
   "outputs": [],
   "source": [
    "def levenshtein(first, second):\n",
    "    \"\"\"Return the Levenshtein distance between two strings.\n",
    "    Based on:\n",
    "        http://rosettacode.org/wiki/Levenshtein_distance#Python\n",
    "        implementing at: https://github.com/coloratto/TextRank/blob/master/textrank/__init__.py\n",
    "    \"\"\"\n",
    "    if len(first) > len(second):\n",
    "        first, second = second, first\n",
    "    distances = range(len(first) + 1)\n",
    "    for index2, char2 in enumerate(second):\n",
    "        new_distances = [index2 + 1]\n",
    "        for index1, char1 in enumerate(first):\n",
    "            if char1 == char2:\n",
    "                new_distances.append(distances[index1])\n",
    "            else:\n",
    "                new_distances.append(1 + min((distances[index1],\n",
    "                                             distances[index1 + 1],\n",
    "                                             new_distances[-1])))\n",
    "        distances = new_distances\n",
    "    return distances[-1]"
   ]
  },
  {
   "cell_type": "code",
   "execution_count": 43,
   "metadata": {
    "collapsed": true
   },
   "outputs": [],
   "source": [
    "def masCercana(w):\n",
    "    cerca=[]\n",
    "    try:\n",
    "        cerca=w2v_InfAltaSK.most_similar(w)\n",
    "    except:\n",
    "        cerca=[]\n",
    "    return cerca"
   ]
  },
  {
   "cell_type": "code",
   "execution_count": 44,
   "metadata": {
    "collapsed": true
   },
   "outputs": [],
   "source": [
    "def cercanos(sent,n):\n",
    "    simConcept=[]\n",
    "    for w in sent:\n",
    "        buffer = masCercana(w)\n",
    "        if len(masCercana(w))>1:\n",
    "            for i in range(n):\n",
    "                simConcept.append(buffer[i][0])\n",
    "    return simConcept"
   ]
  },
  {
   "cell_type": "code",
   "execution_count": null,
   "metadata": {
    "collapsed": true
   },
   "outputs": [],
   "source": []
  },
  {
   "cell_type": "code",
   "execution_count": null,
   "metadata": {
    "collapsed": true
   },
   "outputs": [],
   "source": []
  },
  {
   "cell_type": "markdown",
   "metadata": {},
   "source": [
    "### Pruebas para entender funcionamiento de most_similar()"
   ]
  },
  {
   "cell_type": "code",
   "execution_count": 3,
   "metadata": {},
   "outputs": [
    {
     "data": {
      "text/plain": [
       "(98103, 300)"
      ]
     },
     "execution_count": 3,
     "metadata": {},
     "output_type": "execute_result"
    }
   ],
   "source": [
    "InfAltModel.syn0.shape"
   ]
  },
  {
   "cell_type": "code",
   "execution_count": 8,
   "metadata": {},
   "outputs": [
    {
     "data": {
      "text/plain": [
       "98103"
      ]
     },
     "execution_count": 8,
     "metadata": {},
     "output_type": "execute_result"
    }
   ],
   "source": [
    "InfAltModel.syn0.shape[0]"
   ]
  },
  {
   "cell_type": "code",
   "execution_count": 9,
   "metadata": {},
   "outputs": [
    {
     "data": {
      "text/plain": [
       "300"
      ]
     },
     "execution_count": 9,
     "metadata": {},
     "output_type": "execute_result"
    }
   ],
   "source": [
    "InfAltModel.syn0.shape[1]"
   ]
  },
  {
   "cell_type": "code",
   "execution_count": 8,
   "metadata": {
    "collapsed": true
   },
   "outputs": [],
   "source": [
    "InfAltModel.syn0norm"
   ]
  },
  {
   "cell_type": "code",
   "execution_count": 113,
   "metadata": {
    "collapsed": true
   },
   "outputs": [],
   "source": [
    "InfAltModel.syn0norm = (InfAltModel.syn0 / sqrt((InfAltModel.syn0 ** 2).sum(-1))[..., newaxis]).astype(REAL)"
   ]
  },
  {
   "cell_type": "code",
   "execution_count": 114,
   "metadata": {},
   "outputs": [
    {
     "data": {
      "text/plain": [
       "(98103, 300)"
      ]
     },
     "execution_count": 114,
     "metadata": {},
     "output_type": "execute_result"
    }
   ],
   "source": [
    "InfAltModel.syn0norm.shape"
   ]
  },
  {
   "cell_type": "code",
   "execution_count": 115,
   "metadata": {
    "collapsed": true
   },
   "outputs": [],
   "source": [
    "positive=['dlp']"
   ]
  },
  {
   "cell_type": "code",
   "execution_count": 116,
   "metadata": {
    "collapsed": true
   },
   "outputs": [],
   "source": [
    "positive = [(word, 1.0) if isinstance(word, string_types + (ndarray,)) else word for word in positive]"
   ]
  },
  {
   "cell_type": "code",
   "execution_count": 117,
   "metadata": {},
   "outputs": [
    {
     "data": {
      "text/plain": [
       "[('dlp', 1.0)]"
      ]
     },
     "execution_count": 117,
     "metadata": {},
     "output_type": "execute_result"
    }
   ],
   "source": [
    "positive"
   ]
  },
  {
   "cell_type": "code",
   "execution_count": 118,
   "metadata": {
    "collapsed": true
   },
   "outputs": [],
   "source": [
    "all_words, mean = set(), []"
   ]
  },
  {
   "cell_type": "code",
   "execution_count": 121,
   "metadata": {
    "collapsed": true
   },
   "outputs": [],
   "source": [
    "ind = InfAltModel.vocab[word].index\n",
    "vecWord=InfAltModel.syn0norm[ind]\n",
    "#vecWord"
   ]
  },
  {
   "cell_type": "code",
   "execution_count": 123,
   "metadata": {
    "collapsed": true
   },
   "outputs": [],
   "source": [
    "for word, weight in positive:\n",
    "    if isinstance(word, ndarray):\n",
    "        mean.append(weight * word)\n",
    "    elif word in InfAltModel.vocab:\n",
    "        mean.append(weight * InfAltModel.syn0norm[InfAltModel.vocab[word].index])\n",
    "        all_words.add(InfAltModel.vocab[word].index)\n",
    "    else:\n",
    "        raise KeyError(\"word '%s' not in vocabulary\" % word)\n",
    "    if not mean:\n",
    "        raise ValueError(\"cannot compute similarity with no input\")\n",
    "    mean = matutils.unitvec(array(mean).mean(axis=0)).astype(REAL)"
   ]
  },
  {
   "cell_type": "code",
   "execution_count": 124,
   "metadata": {},
   "outputs": [
    {
     "data": {
      "text/plain": [
       "{14311}"
      ]
     },
     "execution_count": 124,
     "metadata": {},
     "output_type": "execute_result"
    }
   ],
   "source": [
    "all_words"
   ]
  },
  {
   "cell_type": "code",
   "execution_count": 130,
   "metadata": {},
   "outputs": [
    {
     "data": {
      "text/plain": [
       "(300,)"
      ]
     },
     "execution_count": 130,
     "metadata": {},
     "output_type": "execute_result"
    }
   ],
   "source": [
    "mean.shape"
   ]
  },
  {
   "cell_type": "code",
   "execution_count": 109,
   "metadata": {
    "collapsed": true
   },
   "outputs": [],
   "source": [
    "#mean"
   ]
  },
  {
   "cell_type": "code",
   "execution_count": 92,
   "metadata": {},
   "outputs": [
    {
     "data": {
      "text/plain": [
       "(98103, 300)"
      ]
     },
     "execution_count": 92,
     "metadata": {},
     "output_type": "execute_result"
    }
   ],
   "source": [
    "limited = InfAltModel.syn0norm\n",
    "limited.shape"
   ]
  },
  {
   "cell_type": "code",
   "execution_count": 93,
   "metadata": {
    "collapsed": true
   },
   "outputs": [],
   "source": [
    "dists = dot(limited, mean)"
   ]
  },
  {
   "cell_type": "code",
   "execution_count": 94,
   "metadata": {},
   "outputs": [
    {
     "data": {
      "text/plain": [
       "(98103,)"
      ]
     },
     "execution_count": 94,
     "metadata": {},
     "output_type": "execute_result"
    }
   ],
   "source": [
    "dists.shape"
   ]
  },
  {
   "cell_type": "code",
   "execution_count": 111,
   "metadata": {},
   "outputs": [
    {
     "data": {
      "text/plain": [
       "98103"
      ]
     },
     "execution_count": 111,
     "metadata": {},
     "output_type": "execute_result"
    }
   ],
   "source": [
    "len(dists)"
   ]
  },
  {
   "cell_type": "code",
   "execution_count": 95,
   "metadata": {},
   "outputs": [
    {
     "data": {
      "text/plain": [
       "1"
      ]
     },
     "execution_count": 95,
     "metadata": {},
     "output_type": "execute_result"
    }
   ],
   "source": [
    "len(all_words)"
   ]
  },
  {
   "cell_type": "code",
   "execution_count": 96,
   "metadata": {
    "collapsed": true
   },
   "outputs": [],
   "source": [
    "best = matutils.argsort(dists, topn=10 + len(all_words), reverse=True)"
   ]
  },
  {
   "cell_type": "code",
   "execution_count": 97,
   "metadata": {},
   "outputs": [
    {
     "data": {
      "text/plain": [
       "array([46071, 68186, 49885, 70627, 68051, 64485, 71493, 66225, 53562,\n",
       "       44410, 73181])"
      ]
     },
     "execution_count": 97,
     "metadata": {},
     "output_type": "execute_result"
    }
   ],
   "source": [
    "best"
   ]
  },
  {
   "cell_type": "code",
   "execution_count": 98,
   "metadata": {
    "collapsed": true
   },
   "outputs": [],
   "source": [
    "result = [(InfAltModel.index2word[sim], float(dists[sim])) for sim in best if sim not in all_words]"
   ]
  },
  {
   "cell_type": "code",
   "execution_count": 132,
   "metadata": {},
   "outputs": [
    {
     "data": {
      "text/plain": [
       "[('puntualres', 0.8591750264167786),\n",
       " ('hemtemesis', 0.8501303195953369),\n",
       " ('consiuderamos', 0.846984326839447),\n",
       " ('presentandon', 0.8460383415222168),\n",
       " ('odinamicamemte', 0.8438538312911987),\n",
       " ('presenanto', 0.8424177765846252),\n",
       " ('transitorios', 0.8421307802200317),\n",
       " ('hemodinammicamente', 0.8367821574211121),\n",
       " ('hemodinamicamene', 0.8348478078842163),\n",
       " ('mostar', 0.8338656425476074)]"
      ]
     },
     "execution_count": 132,
     "metadata": {},
     "output_type": "execute_result"
    }
   ],
   "source": [
    "result"
   ]
  },
  {
   "cell_type": "markdown",
   "metadata": {
    "collapsed": true
   },
   "source": [
    "## Generación de un Modelo W2V-Snomed, de tamaño del vector 300. (Word2Vec)\n",
    "Se elige este tamaño, para que coincida, con los vectores creados en el Modelo de los Informes de Alta."
   ]
  },
  {
   "cell_type": "code",
   "execution_count": null,
   "metadata": {
    "collapsed": true
   },
   "outputs": [],
   "source": [
    "from gensim.models import Word2Vec\n",
    "\n",
    "model300 = Word2Vec(dfSnomedSyn.corpus_token,\n",
    "                size=300,\n",
    "                window=3,\n",
    "                workers=4,\n",
    "                min_count=1,\n",
    "                sample=0.05,\n",
    "                sg=1,\n",
    "                iter=5,\n",
    "                hs=0)"
   ]
  },
  {
   "cell_type": "code",
   "execution_count": 4,
   "metadata": {
    "collapsed": true
   },
   "outputs": [],
   "source": [
    "# Grabamos el modelo generado al disco.\n",
    "fich = '/Models/w2vSnomed-SK-s300-w3.txt'\n",
    "f = p+fich\n",
    "model300.wv.save_word2vec_format(f, binary=False)"
   ]
  },
  {
   "cell_type": "markdown",
   "metadata": {},
   "source": [
    "## Generación de un Modelo D2V-Snomed, de tamaño del vector 300. (Doc2Vec)\n",
    "Se elige este tamaño, para que coincida, con los vectores creados en el Modelo de los Informes de Alta."
   ]
  },
  {
   "cell_type": "markdown",
   "metadata": {
    "collapsed": true
   },
   "source": [
    "## Fase 2. Creación Modelo Doc2Vec. -----------------------------------------------------------------------\n",
    "Para generar el modelo Doc2Vec, se debe elegir que tipo d reprensetación de palabras vamos a querer, y cual va ser la finalidad.<br>\n",
    "Existen dos tipos de modelos:<br>\n",
    "1. **PV-DM: dm=1**\n",
    "1. **PV-DBOW: dm=0**"
   ]
  },
  {
   "cell_type": "code",
   "execution_count": 67,
   "metadata": {
    "collapsed": true
   },
   "outputs": [],
   "source": [
    "#Import all the dependencies\n",
    "from gensim.models.doc2vec import Doc2Vec, TaggedDocument\n",
    "from nltk.tokenize import word_tokenize"
   ]
  },
  {
   "cell_type": "code",
   "execution_count": 68,
   "metadata": {
    "collapsed": true
   },
   "outputs": [],
   "source": [
    "data =dfSnomedSyn['corpus'].tolist()"
   ]
  },
  {
   "cell_type": "code",
   "execution_count": 69,
   "metadata": {
    "collapsed": true
   },
   "outputs": [],
   "source": [
    "tagged_data = [TaggedDocument(words=word_tokenize(_d.lower()), tags=[str(i)]) for i, _d in enumerate(data)]"
   ]
  },
  {
   "cell_type": "code",
   "execution_count": 76,
   "metadata": {},
   "outputs": [
    {
     "data": {
      "text/plain": [
       "[TaggedDocument(words=['bitter', '3'], tags=['0']),\n",
       " TaggedDocument(words=['dolor', 'de', 'pecho', 'irradiado', 'hacia', 'otras', 'zonas'], tags=['1']),\n",
       " TaggedDocument(words=['esguince', '|', 'estrema', '|', 'lesion', 'articular', '|', 'torcedura', '|', 'traumatismo', 'articular'], tags=['2'])]"
      ]
     },
     "execution_count": 76,
     "metadata": {},
     "output_type": "execute_result"
    }
   ],
   "source": [
    "tagged_data[:3]"
   ]
  },
  {
   "cell_type": "markdown",
   "metadata": {},
   "source": [
    "### Crear tagSnomed Para identificar los conceptos de Snomed:\n",
    "\n",
    "Enfoque **1**.:"
   ]
  },
  {
   "cell_type": "code",
   "execution_count": 112,
   "metadata": {
    "collapsed": true
   },
   "outputs": [],
   "source": [
    "cols=['corpus','conceptId']\n",
    "#data =dfSnomedSyn[cols].tolist()\n",
    "dataCorpus =dfSnomedSyn['corpus'].tolist()\n",
    "dataId =dfSnomedSyn['conceptId'].tolist()\n",
    "dataToken =dfSnomedSyn['corpus_token'].tolist()"
   ]
  },
  {
   "cell_type": "code",
   "execution_count": 114,
   "metadata": {},
   "outputs": [
    {
     "data": {
      "text/plain": [
       "'1000004|traumatismo estrema articular esguince lesion torcedura'"
      ]
     },
     "execution_count": 114,
     "metadata": {},
     "output_type": "execute_result"
    }
   ],
   "source": [
    "dataId[2]+'|'+' '.join(dataToken[2])"
   ]
  },
  {
   "cell_type": "code",
   "execution_count": 123,
   "metadata": {
    "collapsed": true
   },
   "outputs": [],
   "source": [
    "tagged_data = [TaggedDocument(words=dataToken[i], tags=dataId[i]+'|'+dataCorpus[i]) for i, _d in enumerate(dataId)]"
   ]
  },
  {
   "cell_type": "code",
   "execution_count": null,
   "metadata": {
    "collapsed": true
   },
   "outputs": [],
   "source": [
    "tagged_data"
   ]
  },
  {
   "cell_type": "code",
   "execution_count": null,
   "metadata": {
    "collapsed": true
   },
   "outputs": [],
   "source": []
  },
  {
   "cell_type": "markdown",
   "metadata": {},
   "source": [
    "Enfoque **2**.: \n",
    "\n",
    "**Crear nuevo Corpus, poniendo en una linea, el ID y su descripción:**"
   ]
  },
  {
   "cell_type": "code",
   "execution_count": 92,
   "metadata": {},
   "outputs": [
    {
     "data": {
      "text/plain": [
       "477662"
      ]
     },
     "execution_count": 92,
     "metadata": {},
     "output_type": "execute_result"
    }
   ],
   "source": [
    "dataPreTag=[]\n",
    "for i in range(len(dataId)):\n",
    "    cod  = dataId[i]\n",
    "    desc = dataCorpus[i].split('|')\n",
    "    for item in desc:\n",
    "        dataPreTag.append([cod,item])\n",
    "len(dataPreTag)"
   ]
  },
  {
   "cell_type": "code",
   "execution_count": 93,
   "metadata": {},
   "outputs": [
    {
     "data": {
      "text/plain": [
       "[['100000000', 'bitter   3'],\n",
       " ['10000006', 'dolor de pecho irradiado hacia otras zonas'],\n",
       " ['1000004', 'esguince '],\n",
       " ['1000004', ' estrema '],\n",
       " ['1000004', ' lesion articular '],\n",
       " ['1000004', ' torcedura '],\n",
       " ['1000004', ' traumatismo articular'],\n",
       " ['100009004', 'bloat   pac'],\n",
       " ['10001005', 'sepsis bacteriana '],\n",
       " ['10001005', ' septicemia bacteriana'],\n",
       " ['100019005', 'bo   bac   2x'],\n",
       " ['10002003', 'fundectomia gastrica '],\n",
       " ['10002003', ' reseccion de la cupula del estomago '],\n",
       " ['10002003', ' reseccion del fondo gastrico'],\n",
       " ['100023002', 'borditech   p e '],\n",
       " ['100024008', 'bo   se']]"
      ]
     },
     "execution_count": 93,
     "metadata": {},
     "output_type": "execute_result"
    }
   ],
   "source": [
    "dataPreTag[0:16]"
   ]
  },
  {
   "cell_type": "code",
   "execution_count": 95,
   "metadata": {},
   "outputs": [
    {
     "data": {
      "text/plain": [
       "'bitter   3'"
      ]
     },
     "execution_count": 95,
     "metadata": {},
     "output_type": "execute_result"
    }
   ],
   "source": [
    "dataPreTag[0][1]"
   ]
  },
  {
   "cell_type": "code",
   "execution_count": 106,
   "metadata": {
    "collapsed": true
   },
   "outputs": [],
   "source": [
    "tagged_data = [TaggedDocument(words=word_tokenize(dataPreTag[i][1].lower()), tags=[dataPreTag[i][0]+'-'+dataPreTag[i][1]]) for i, _d in enumerate(dataPreTag)]"
   ]
  },
  {
   "cell_type": "code",
   "execution_count": null,
   "metadata": {
    "collapsed": true
   },
   "outputs": [],
   "source": [
    "tagged_data"
   ]
  },
  {
   "cell_type": "markdown",
   "metadata": {},
   "source": [
    "### Crear Diccionario look-up para identificar a los Id's de los Conceptos Snomed"
   ]
  },
  {
   "cell_type": "code",
   "execution_count": null,
   "metadata": {
    "collapsed": true
   },
   "outputs": [],
   "source": []
  },
  {
   "cell_type": "markdown",
   "metadata": {},
   "source": [
    "### Entrenar el Modelo Doc2Vec (PV-DBOW):"
   ]
  },
  {
   "cell_type": "code",
   "execution_count": null,
   "metadata": {
    "collapsed": true
   },
   "outputs": [],
   "source": [
    "max_epochs = 20\n",
    "vec_size = 300\n",
    "alpha = 0.025\n",
    "\n",
    "model = Doc2Vec(size=vec_size,\n",
    "                alpha=alpha, \n",
    "                min_alpha=0.00025,\n",
    "                min_count=2,\n",
    "                dm =1)\n",
    "  \n",
    "model.build_vocab(tagged_data)\n",
    "\n",
    "for epoch in range(max_epochs):\n",
    "    print('iteration {0}'.format(epoch))\n",
    "    model.train(tagged_data,\n",
    "                total_examples=model.corpus_count,\n",
    "                epochs=model.iter)\n",
    "    # decrease the learning rate\n",
    "    model.alpha -= 0.0002\n",
    "    # fix the learning rate, no decay\n",
    "    model.min_alpha = model.alpha"
   ]
  },
  {
   "cell_type": "code",
   "execution_count": 8,
   "metadata": {
    "collapsed": true
   },
   "outputs": [],
   "source": [
    "fich = '/models/Doc2Vec-Snomed-PV-DBOW-s300'\n",
    "f = p+fich\n",
    "model.save(f)\n",
    "print(\"Model Saved\")"
   ]
  },
  {
   "cell_type": "markdown",
   "metadata": {},
   "source": [
    "### Cargar el Modelo ya generado desde disco:"
   ]
  },
  {
   "cell_type": "code",
   "execution_count": null,
   "metadata": {
    "collapsed": true
   },
   "outputs": [],
   "source": [
    "fich = '/models/Doc2Vec-Snomed-PV-DBOW-s300'\n",
    "f = p+fich\n",
    "model = gensim.models.doc2vec.Doc2Vec.load(f)"
   ]
  },
  {
   "cell_type": "markdown",
   "metadata": {
    "collapsed": true
   },
   "source": [
    "### Aplicar Most_Similar documentos:"
   ]
  },
  {
   "cell_type": "code",
   "execution_count": 130,
   "metadata": {},
   "outputs": [
    {
     "name": "stdout",
     "output_type": "stream",
     "text": [
      "[('|', 0.1533329337835312), (':', 0.15107718110084534), ('v', 0.1258426159620285), ('d', 0.1036207526922226), ('g', 0.098814956843853), ('x', 0.07565678656101227), ('m', 0.07097321003675461), ('ø', 0.06962880492210388), ('z', 0.06912010908126831), ('º', 0.06781326234340668)]\n"
     ]
    }
   ],
   "source": [
    "token_list = ['esguince','tobillo']\n",
    "ivec = model.infer_vector(doc_words=token_list, steps=20, alpha=0.025)\n",
    "print(model.docvecs.most_similar(positive=[ivec], topn=10))"
   ]
  },
  {
   "cell_type": "code",
   "execution_count": 127,
   "metadata": {},
   "outputs": [
    {
     "name": "stderr",
     "output_type": "stream",
     "text": [
      "2018-08-18 13:38:08,892 : INFO : precomputing L2-norms of word weight vectors\n"
     ]
    },
    {
     "name": "stdout",
     "output_type": "stream",
     "text": [
      "[('oseas', 0.6812828183174133), ('psoas', 0.6541339159011841), ('astragaloescafoidea', 0.6537420749664307), ('senos', 0.6340361833572388), ('eneldo', 0.6295666694641113), ('escalenos', 0.6285560131072998), ('ahusados', 0.6274730563163757), ('pantallas', 0.6255570650100708), ('antiesquistosomiasico', 0.6173219680786133), ('nelore', 0.6170296669006348)]\n"
     ]
    }
   ],
   "source": [
    "token_list = ['esguince','tobillo']\n",
    "ivec = model.infer_vector(doc_words=token_list, steps=20, alpha=0.025)\n",
    "print(model.most_similar(positive=[ivec], topn=10))"
   ]
  },
  {
   "cell_type": "code",
   "execution_count": 128,
   "metadata": {},
   "outputs": [
    {
     "name": "stdout",
     "output_type": "stream",
     "text": [
      "[('sinoviectomia', 0.8291350603103638), ('sinovectomia', 0.8246129751205444), ('artroscopia', 0.7749430537223816), ('suprastragalina', 0.764326274394989), ('menisco', 0.7619028687477112), ('glenohumeral', 0.7592365741729736), ('cubitohumeral', 0.7559356689453125), ('anquilosis', 0.7460286617279053), ('fusion', 0.7286036014556885), ('escafosemilunar', 0.725143551826477)]\n"
     ]
    }
   ],
   "source": [
    "txt='esguince'\n",
    "print(model.most_similar(positive=[txt], topn=10))"
   ]
  },
  {
   "cell_type": "code",
   "execution_count": 129,
   "metadata": {
    "collapsed": true
   },
   "outputs": [],
   "source": [
    "#txt=['esguince','tobillo']\n",
    "#print(model.docvecs.most_similar(positive=[txt], topn=10))"
   ]
  },
  {
   "cell_type": "code",
   "execution_count": null,
   "metadata": {
    "collapsed": true
   },
   "outputs": [],
   "source": []
  },
  {
   "cell_type": "code",
   "execution_count": 13,
   "metadata": {
    "collapsed": true
   },
   "outputs": [],
   "source": [
    "print('Document ({}): «{}»\\n'.format(doc_id, ' '.join(tagged_data[doc_id].words)))\n",
    "print(u'SIMILAR/DISSIMILAR DOCS PER MODEL %s:\\n' % model)\n",
    "for label, index in [('MOST', 0), ('SECOND-MOST', 1), ('MEDIAN', len(sims)//2), ('LEAST', len(sims) - 1)]:\n",
    "    print(u'%s %s: «%s»\\n' % (label, sims[index], ' '.join(tagged_data[sims[index][0]].words)))"
   ]
  },
  {
   "cell_type": "markdown",
   "metadata": {},
   "source": [
    "### 6.0 Pruebas de Ejecución:\n",
    "Se prueba con varias frases, para identificar el funcionamiento del algoritmo.<br>\n",
    "Se calcula Paso 1 y Paso 2.."
   ]
  },
  {
   "cell_type": "markdown",
   "metadata": {},
   "source": [
    "### 7.0 Guardar los resultados en disco:"
   ]
  },
  {
   "cell_type": "code",
   "execution_count": 41,
   "metadata": {
    "collapsed": true
   },
   "outputs": [],
   "source": [
    "# Guardar los datos para comprobacion posteriori\n",
    "import csv\n",
    "fich = '/DataWork/CorpusGold/boc-Gold-AnatoPato.txt'\n",
    "#fich = '/DataWork/CorpusGold/boc-CorpusGold.txt'\n",
    "fich = p+fich\n",
    "\n",
    "with open(fich, \"w\") as fichero:\n",
    "    writer = csv.writer(fichero)\n",
    "    writer.writerows(BoC)"
   ]
  }
 ],
 "metadata": {
  "kernelspec": {
   "display_name": "Python 3",
   "language": "python",
   "name": "python3"
  },
  "language_info": {
   "codemirror_mode": {
    "name": "ipython",
    "version": 3
   },
   "file_extension": ".py",
   "mimetype": "text/x-python",
   "name": "python",
   "nbconvert_exporter": "python",
   "pygments_lexer": "ipython3",
   "version": "3.6.3"
  }
 },
 "nbformat": 4,
 "nbformat_minor": 2
}
